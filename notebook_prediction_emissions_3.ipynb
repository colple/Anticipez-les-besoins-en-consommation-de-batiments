{
 "cells": [
  {
   "cell_type": "markdown",
   "id": "ef7ab484",
   "metadata": {},
   "source": [
    "# ANTICIPEZ LES BESOINS EN CONSOMMATION DES BATIMENTS "
   ]
  },
  {
   "cell_type": "markdown",
   "id": "335f6c9c",
   "metadata": {},
   "source": [
    "### Contexte\n",
    "**Vous travaillez pour la ville de Seattle. Pour atteindre son objectif de ville neutre en émissions de carbone en 2050, votre équipe s’intéresse de près à la consommation et aux émissions des bâtiments non destinés à l’habitation.**\n",
    "\n",
    "### Mission\n",
    "- **Prédiction des émissions de CO2 et de la consommation totale d’énergie de bâtiments non destinés à l’habitation pour lesquels elles n’ont pas encore été mesurées à partir de relevés minutieux effectués en 2016.**\n",
    "- **Evaluation de  l’intérêt de l’ENERGY STAR Score pour la prédiction d’émissions (calcul fastidieux), intégration dans la modélisation et jugement de son intérêt.**\n",
    "\n",
    "### A noter\n",
    "**Concernant la modélisation, elle sera réalisée de la même manière que pour la prédiction de l'émission de gaz à effet de serre. Ainsi, 3 jeux seront créés: les jeux de test et d'entrainement pour la mise en place du modèle et un jeu de validation permettant d'évaluer la qualité de l'apprentissage.**"
   ]
  },
  {
   "cell_type": "code",
   "execution_count": 1,
   "id": "fd420cfb",
   "metadata": {},
   "outputs": [],
   "source": [
    "import pandas as pd\n",
    "import numpy as np\n",
    "import matplotlib.pyplot as plt\n",
    "import seaborn as sns\n",
    "\n",
    "# Warnings\n",
    "from warnings import simplefilter\n",
    "simplefilter(action='ignore', category=FutureWarning)\n",
    "from sklearn.exceptions import ConvergenceWarning\n",
    "\n",
    "# Preprocessing\n",
    "from sklearn.preprocessing import OneHotEncoder, FunctionTransformer\n",
    "from sklearn.compose import ColumnTransformer, TransformedTargetRegressor\n",
    "\n",
    "# Data split\n",
    "from sklearn.model_selection import train_test_split\n",
    "\n",
    "# Train time\n",
    "import time\n",
    "\n",
    "# Models\n",
    "from sklearn.linear_model import LinearRegression, Ridge, Lasso, ElasticNet\n",
    "from sklearn.ensemble import RandomForestRegressor, GradientBoostingRegressor\n",
    "from xgboost import XGBRegressor\n",
    "\n",
    "# Métrics\n",
    "from sklearn.metrics import mean_squared_error, mean_absolute_error, r2_score, median_absolute_error\n",
    "\n",
    "# Cross Validation\n",
    "from sklearn.model_selection import cross_val_score, GridSearchCV\n",
    "import shap\n",
    "\n",
    "from scipy.stats import skewtest\n"
   ]
  },
  {
   "cell_type": "code",
   "execution_count": 2,
   "id": "d19d294a",
   "metadata": {
    "scrolled": true
   },
   "outputs": [
    {
     "data": {
      "text/html": [
       "<div>\n",
       "<style scoped>\n",
       "    .dataframe tbody tr th:only-of-type {\n",
       "        vertical-align: middle;\n",
       "    }\n",
       "\n",
       "    .dataframe tbody tr th {\n",
       "        vertical-align: top;\n",
       "    }\n",
       "\n",
       "    .dataframe thead th {\n",
       "        text-align: right;\n",
       "    }\n",
       "</style>\n",
       "<table border=\"1\" class=\"dataframe\">\n",
       "  <thead>\n",
       "    <tr style=\"text-align: right;\">\n",
       "      <th></th>\n",
       "      <th>NumberofBuildings</th>\n",
       "      <th>NumberofFloors</th>\n",
       "      <th>PropertyGFATotal</th>\n",
       "      <th>ENERGYSTARScore</th>\n",
       "      <th>SiteEUIWN(kBtu/sf)</th>\n",
       "      <th>GHGEmissionsIntensity</th>\n",
       "      <th>SteamUse(%)</th>\n",
       "      <th>Electricity(%)</th>\n",
       "      <th>NaturalGas(%)</th>\n",
       "      <th>AgePropriete</th>\n",
       "      <th>Entrepôts réfrigérés et Data Center</th>\n",
       "      <th>Education</th>\n",
       "      <th>Stockage</th>\n",
       "      <th>Parking</th>\n",
       "      <th>Activités sociales</th>\n",
       "      <th>Santé et Recherche</th>\n",
       "      <th>Hébergement</th>\n",
       "      <th>Gros commerces</th>\n",
       "      <th>Usines</th>\n",
       "      <th>Bureaux</th>\n",
       "      <th>Petits commerces</th>\n",
       "      <th>Autre et services</th>\n",
       "      <th>Restauration</th>\n",
       "      <th>Neighborhood_ballard</th>\n",
       "      <th>Neighborhood_central</th>\n",
       "      <th>Neighborhood_delridge</th>\n",
       "      <th>Neighborhood_downtown</th>\n",
       "      <th>Neighborhood_east</th>\n",
       "      <th>Neighborhood_greater duwamish</th>\n",
       "      <th>Neighborhood_lake union</th>\n",
       "      <th>Neighborhood_magnolia and queen anne</th>\n",
       "      <th>Neighborhood_north</th>\n",
       "      <th>Neighborhood_northeast</th>\n",
       "      <th>Neighborhood_northwest</th>\n",
       "      <th>Neighborhood_southeast</th>\n",
       "      <th>Neighborhood_southwest</th>\n",
       "    </tr>\n",
       "  </thead>\n",
       "  <tbody>\n",
       "    <tr>\n",
       "      <th>0</th>\n",
       "      <td>1.0</td>\n",
       "      <td>12</td>\n",
       "      <td>88434.0</td>\n",
       "      <td>60.0</td>\n",
       "      <td>84.300003</td>\n",
       "      <td>2.83</td>\n",
       "      <td>27.730164</td>\n",
       "      <td>54.605997</td>\n",
       "      <td>17.663840</td>\n",
       "      <td>96</td>\n",
       "      <td>0.0</td>\n",
       "      <td>0.0</td>\n",
       "      <td>0.0</td>\n",
       "      <td>0.000000</td>\n",
       "      <td>0.0</td>\n",
       "      <td>0.0</td>\n",
       "      <td>100.000000</td>\n",
       "      <td>0.0</td>\n",
       "      <td>0.0</td>\n",
       "      <td>0.0</td>\n",
       "      <td>0.0</td>\n",
       "      <td>0.0</td>\n",
       "      <td>0.000000</td>\n",
       "      <td>0</td>\n",
       "      <td>0</td>\n",
       "      <td>0</td>\n",
       "      <td>1</td>\n",
       "      <td>0</td>\n",
       "      <td>0</td>\n",
       "      <td>0</td>\n",
       "      <td>0</td>\n",
       "      <td>0</td>\n",
       "      <td>0</td>\n",
       "      <td>0</td>\n",
       "      <td>0</td>\n",
       "      <td>0</td>\n",
       "    </tr>\n",
       "    <tr>\n",
       "      <th>1</th>\n",
       "      <td>1.0</td>\n",
       "      <td>11</td>\n",
       "      <td>103566.0</td>\n",
       "      <td>61.0</td>\n",
       "      <td>97.900002</td>\n",
       "      <td>2.86</td>\n",
       "      <td>0.000000</td>\n",
       "      <td>38.660907</td>\n",
       "      <td>61.339093</td>\n",
       "      <td>27</td>\n",
       "      <td>0.0</td>\n",
       "      <td>0.0</td>\n",
       "      <td>0.0</td>\n",
       "      <td>14.545314</td>\n",
       "      <td>0.0</td>\n",
       "      <td>0.0</td>\n",
       "      <td>80.991831</td>\n",
       "      <td>0.0</td>\n",
       "      <td>0.0</td>\n",
       "      <td>0.0</td>\n",
       "      <td>0.0</td>\n",
       "      <td>0.0</td>\n",
       "      <td>4.462855</td>\n",
       "      <td>0</td>\n",
       "      <td>0</td>\n",
       "      <td>0</td>\n",
       "      <td>1</td>\n",
       "      <td>0</td>\n",
       "      <td>0</td>\n",
       "      <td>0</td>\n",
       "      <td>0</td>\n",
       "      <td>0</td>\n",
       "      <td>0</td>\n",
       "      <td>0</td>\n",
       "      <td>0</td>\n",
       "      <td>0</td>\n",
       "    </tr>\n",
       "    <tr>\n",
       "      <th>2</th>\n",
       "      <td>1.0</td>\n",
       "      <td>41</td>\n",
       "      <td>953211.0</td>\n",
       "      <td>43.0</td>\n",
       "      <td>97.699997</td>\n",
       "      <td>2.19</td>\n",
       "      <td>29.711310</td>\n",
       "      <td>68.230746</td>\n",
       "      <td>2.057944</td>\n",
       "      <td>54</td>\n",
       "      <td>0.0</td>\n",
       "      <td>0.0</td>\n",
       "      <td>0.0</td>\n",
       "      <td>20.637403</td>\n",
       "      <td>0.0</td>\n",
       "      <td>0.0</td>\n",
       "      <td>79.362597</td>\n",
       "      <td>0.0</td>\n",
       "      <td>0.0</td>\n",
       "      <td>0.0</td>\n",
       "      <td>0.0</td>\n",
       "      <td>0.0</td>\n",
       "      <td>0.000000</td>\n",
       "      <td>0</td>\n",
       "      <td>0</td>\n",
       "      <td>0</td>\n",
       "      <td>1</td>\n",
       "      <td>0</td>\n",
       "      <td>0</td>\n",
       "      <td>0</td>\n",
       "      <td>0</td>\n",
       "      <td>0</td>\n",
       "      <td>0</td>\n",
       "      <td>0</td>\n",
       "      <td>0</td>\n",
       "      <td>0</td>\n",
       "    </tr>\n",
       "    <tr>\n",
       "      <th>3</th>\n",
       "      <td>1.0</td>\n",
       "      <td>10</td>\n",
       "      <td>61320.0</td>\n",
       "      <td>56.0</td>\n",
       "      <td>113.300003</td>\n",
       "      <td>4.67</td>\n",
       "      <td>32.591348</td>\n",
       "      <td>40.751933</td>\n",
       "      <td>26.656720</td>\n",
       "      <td>97</td>\n",
       "      <td>0.0</td>\n",
       "      <td>0.0</td>\n",
       "      <td>0.0</td>\n",
       "      <td>0.000000</td>\n",
       "      <td>0.0</td>\n",
       "      <td>0.0</td>\n",
       "      <td>100.000000</td>\n",
       "      <td>0.0</td>\n",
       "      <td>0.0</td>\n",
       "      <td>0.0</td>\n",
       "      <td>0.0</td>\n",
       "      <td>0.0</td>\n",
       "      <td>0.000000</td>\n",
       "      <td>0</td>\n",
       "      <td>0</td>\n",
       "      <td>0</td>\n",
       "      <td>1</td>\n",
       "      <td>0</td>\n",
       "      <td>0</td>\n",
       "      <td>0</td>\n",
       "      <td>0</td>\n",
       "      <td>0</td>\n",
       "      <td>0</td>\n",
       "      <td>0</td>\n",
       "      <td>0</td>\n",
       "      <td>0</td>\n",
       "    </tr>\n",
       "    <tr>\n",
       "      <th>4</th>\n",
       "      <td>1.0</td>\n",
       "      <td>18</td>\n",
       "      <td>191454.0</td>\n",
       "      <td>75.0</td>\n",
       "      <td>118.699997</td>\n",
       "      <td>2.88</td>\n",
       "      <td>0.000000</td>\n",
       "      <td>37.880171</td>\n",
       "      <td>62.119829</td>\n",
       "      <td>43</td>\n",
       "      <td>0.0</td>\n",
       "      <td>0.0</td>\n",
       "      <td>0.0</td>\n",
       "      <td>35.522371</td>\n",
       "      <td>0.0</td>\n",
       "      <td>0.0</td>\n",
       "      <td>64.477629</td>\n",
       "      <td>0.0</td>\n",
       "      <td>0.0</td>\n",
       "      <td>0.0</td>\n",
       "      <td>0.0</td>\n",
       "      <td>0.0</td>\n",
       "      <td>0.000000</td>\n",
       "      <td>0</td>\n",
       "      <td>0</td>\n",
       "      <td>0</td>\n",
       "      <td>1</td>\n",
       "      <td>0</td>\n",
       "      <td>0</td>\n",
       "      <td>0</td>\n",
       "      <td>0</td>\n",
       "      <td>0</td>\n",
       "      <td>0</td>\n",
       "      <td>0</td>\n",
       "      <td>0</td>\n",
       "      <td>0</td>\n",
       "    </tr>\n",
       "  </tbody>\n",
       "</table>\n",
       "</div>"
      ],
      "text/plain": [
       "   NumberofBuildings  NumberofFloors  PropertyGFATotal  ENERGYSTARScore  \\\n",
       "0                1.0              12           88434.0             60.0   \n",
       "1                1.0              11          103566.0             61.0   \n",
       "2                1.0              41          953211.0             43.0   \n",
       "3                1.0              10           61320.0             56.0   \n",
       "4                1.0              18          191454.0             75.0   \n",
       "\n",
       "   SiteEUIWN(kBtu/sf)  GHGEmissionsIntensity  SteamUse(%)  Electricity(%)  \\\n",
       "0           84.300003                   2.83    27.730164       54.605997   \n",
       "1           97.900002                   2.86     0.000000       38.660907   \n",
       "2           97.699997                   2.19    29.711310       68.230746   \n",
       "3          113.300003                   4.67    32.591348       40.751933   \n",
       "4          118.699997                   2.88     0.000000       37.880171   \n",
       "\n",
       "   NaturalGas(%)  AgePropriete  Entrepôts réfrigérés et Data Center  \\\n",
       "0      17.663840            96                                  0.0   \n",
       "1      61.339093            27                                  0.0   \n",
       "2       2.057944            54                                  0.0   \n",
       "3      26.656720            97                                  0.0   \n",
       "4      62.119829            43                                  0.0   \n",
       "\n",
       "   Education  Stockage    Parking  Activités sociales  Santé et Recherche  \\\n",
       "0        0.0       0.0   0.000000                 0.0                 0.0   \n",
       "1        0.0       0.0  14.545314                 0.0                 0.0   \n",
       "2        0.0       0.0  20.637403                 0.0                 0.0   \n",
       "3        0.0       0.0   0.000000                 0.0                 0.0   \n",
       "4        0.0       0.0  35.522371                 0.0                 0.0   \n",
       "\n",
       "   Hébergement  Gros commerces  Usines  Bureaux  Petits commerces  \\\n",
       "0   100.000000             0.0     0.0      0.0               0.0   \n",
       "1    80.991831             0.0     0.0      0.0               0.0   \n",
       "2    79.362597             0.0     0.0      0.0               0.0   \n",
       "3   100.000000             0.0     0.0      0.0               0.0   \n",
       "4    64.477629             0.0     0.0      0.0               0.0   \n",
       "\n",
       "   Autre et services  Restauration  Neighborhood_ballard  \\\n",
       "0                0.0      0.000000                     0   \n",
       "1                0.0      4.462855                     0   \n",
       "2                0.0      0.000000                     0   \n",
       "3                0.0      0.000000                     0   \n",
       "4                0.0      0.000000                     0   \n",
       "\n",
       "   Neighborhood_central  Neighborhood_delridge  Neighborhood_downtown  \\\n",
       "0                     0                      0                      1   \n",
       "1                     0                      0                      1   \n",
       "2                     0                      0                      1   \n",
       "3                     0                      0                      1   \n",
       "4                     0                      0                      1   \n",
       "\n",
       "   Neighborhood_east  Neighborhood_greater duwamish  Neighborhood_lake union  \\\n",
       "0                  0                              0                        0   \n",
       "1                  0                              0                        0   \n",
       "2                  0                              0                        0   \n",
       "3                  0                              0                        0   \n",
       "4                  0                              0                        0   \n",
       "\n",
       "   Neighborhood_magnolia and queen anne  Neighborhood_north  \\\n",
       "0                                     0                   0   \n",
       "1                                     0                   0   \n",
       "2                                     0                   0   \n",
       "3                                     0                   0   \n",
       "4                                     0                   0   \n",
       "\n",
       "   Neighborhood_northeast  Neighborhood_northwest  Neighborhood_southeast  \\\n",
       "0                       0                       0                       0   \n",
       "1                       0                       0                       0   \n",
       "2                       0                       0                       0   \n",
       "3                       0                       0                       0   \n",
       "4                       0                       0                       0   \n",
       "\n",
       "   Neighborhood_southwest  \n",
       "0                       0  \n",
       "1                       0  \n",
       "2                       0  \n",
       "3                       0  \n",
       "4                       0  "
      ]
     },
     "execution_count": 2,
     "metadata": {},
     "output_type": "execute_result"
    }
   ],
   "source": [
    "# Ouverture de dataframe pour la modélisation\n",
    "filename = pd.read_csv(\"jeu_modelisation.csv\")\n",
    "pd.set_option(\"display.max_rows\", None)\n",
    "pd.set_option(\"display.max_columns\", None)\n",
    "filename.head()"
   ]
  },
  {
   "cell_type": "code",
   "execution_count": 3,
   "id": "6b99c75a",
   "metadata": {},
   "outputs": [],
   "source": [
    "# Copie du fichier\n",
    "df = filename.copy()"
   ]
  },
  {
   "cell_type": "code",
   "execution_count": 4,
   "id": "60549dad",
   "metadata": {
    "scrolled": true
   },
   "outputs": [
    {
     "name": "stdout",
     "output_type": "stream",
     "text": [
      "<class 'pandas.core.frame.DataFrame'>\n",
      "RangeIndex: 967 entries, 0 to 966\n",
      "Data columns (total 36 columns):\n",
      " #   Column                                Non-Null Count  Dtype  \n",
      "---  ------                                --------------  -----  \n",
      " 0   NumberofBuildings                     967 non-null    float64\n",
      " 1   NumberofFloors                        967 non-null    int64  \n",
      " 2   PropertyGFATotal                      967 non-null    float64\n",
      " 3   ENERGYSTARScore                       967 non-null    float64\n",
      " 4   SiteEUIWN(kBtu/sf)                    967 non-null    float64\n",
      " 5   GHGEmissionsIntensity                 967 non-null    float64\n",
      " 6   SteamUse(%)                           967 non-null    float64\n",
      " 7   Electricity(%)                        967 non-null    float64\n",
      " 8   NaturalGas(%)                         967 non-null    float64\n",
      " 9   AgePropriete                          967 non-null    int64  \n",
      " 10  Entrepôts réfrigérés et Data Center   967 non-null    float64\n",
      " 11  Education                             967 non-null    float64\n",
      " 12  Stockage                              967 non-null    float64\n",
      " 13  Parking                               967 non-null    float64\n",
      " 14  Activités sociales                    967 non-null    float64\n",
      " 15  Santé et Recherche                    967 non-null    float64\n",
      " 16  Hébergement                           967 non-null    float64\n",
      " 17  Gros commerces                        967 non-null    float64\n",
      " 18  Usines                                967 non-null    float64\n",
      " 19  Bureaux                               967 non-null    float64\n",
      " 20  Petits commerces                      967 non-null    float64\n",
      " 21  Autre et services                     967 non-null    float64\n",
      " 22  Restauration                          967 non-null    float64\n",
      " 23  Neighborhood_ballard                  967 non-null    int64  \n",
      " 24  Neighborhood_central                  967 non-null    int64  \n",
      " 25  Neighborhood_delridge                 967 non-null    int64  \n",
      " 26  Neighborhood_downtown                 967 non-null    int64  \n",
      " 27  Neighborhood_east                     967 non-null    int64  \n",
      " 28  Neighborhood_greater duwamish         967 non-null    int64  \n",
      " 29  Neighborhood_lake union               967 non-null    int64  \n",
      " 30  Neighborhood_magnolia and queen anne  967 non-null    int64  \n",
      " 31  Neighborhood_north                    967 non-null    int64  \n",
      " 32  Neighborhood_northeast                967 non-null    int64  \n",
      " 33  Neighborhood_northwest                967 non-null    int64  \n",
      " 34  Neighborhood_southeast                967 non-null    int64  \n",
      " 35  Neighborhood_southwest                967 non-null    int64  \n",
      "dtypes: float64(21), int64(15)\n",
      "memory usage: 272.1 KB\n"
     ]
    }
   ],
   "source": [
    "# Infos sur le jeu de données\n",
    "df.info()"
   ]
  },
  {
   "cell_type": "code",
   "execution_count": 5,
   "id": "a217ca57",
   "metadata": {},
   "outputs": [
    {
     "data": {
      "text/html": [
       "<div>\n",
       "<style scoped>\n",
       "    .dataframe tbody tr th:only-of-type {\n",
       "        vertical-align: middle;\n",
       "    }\n",
       "\n",
       "    .dataframe tbody tr th {\n",
       "        vertical-align: top;\n",
       "    }\n",
       "\n",
       "    .dataframe thead th {\n",
       "        text-align: right;\n",
       "    }\n",
       "</style>\n",
       "<table border=\"1\" class=\"dataframe\">\n",
       "  <thead>\n",
       "    <tr style=\"text-align: right;\">\n",
       "      <th></th>\n",
       "      <th>NumberofBuildings</th>\n",
       "      <th>NumberofFloors</th>\n",
       "      <th>PropertyGFATotal</th>\n",
       "      <th>ENERGYSTARScore</th>\n",
       "      <th>SiteEUIWN(kBtu/sf)</th>\n",
       "      <th>GHGEmissionsIntensity</th>\n",
       "      <th>SteamUse(%)</th>\n",
       "      <th>Electricity(%)</th>\n",
       "      <th>NaturalGas(%)</th>\n",
       "      <th>AgePropriete</th>\n",
       "      <th>Entrepôts réfrigérés et Data Center</th>\n",
       "      <th>Education</th>\n",
       "      <th>Stockage</th>\n",
       "      <th>Parking</th>\n",
       "      <th>Activités sociales</th>\n",
       "      <th>Santé et Recherche</th>\n",
       "      <th>Hébergement</th>\n",
       "      <th>Gros commerces</th>\n",
       "      <th>Usines</th>\n",
       "      <th>Bureaux</th>\n",
       "      <th>Petits commerces</th>\n",
       "      <th>Autre et services</th>\n",
       "      <th>Restauration</th>\n",
       "      <th>Neighborhood_ballard</th>\n",
       "      <th>Neighborhood_central</th>\n",
       "      <th>Neighborhood_delridge</th>\n",
       "      <th>Neighborhood_downtown</th>\n",
       "      <th>Neighborhood_east</th>\n",
       "      <th>Neighborhood_greater duwamish</th>\n",
       "      <th>Neighborhood_lake union</th>\n",
       "      <th>Neighborhood_magnolia and queen anne</th>\n",
       "      <th>Neighborhood_north</th>\n",
       "      <th>Neighborhood_northeast</th>\n",
       "      <th>Neighborhood_northwest</th>\n",
       "      <th>Neighborhood_southeast</th>\n",
       "      <th>Neighborhood_southwest</th>\n",
       "    </tr>\n",
       "  </thead>\n",
       "  <tbody>\n",
       "    <tr>\n",
       "      <th>0</th>\n",
       "      <td>1.0</td>\n",
       "      <td>2</td>\n",
       "      <td>126028.0</td>\n",
       "      <td>NaN</td>\n",
       "      <td>141.600006</td>\n",
       "      <td>3.10</td>\n",
       "      <td>0.000000</td>\n",
       "      <td>60.988402</td>\n",
       "      <td>39.011598</td>\n",
       "      <td>24</td>\n",
       "      <td>0.000000</td>\n",
       "      <td>0.0</td>\n",
       "      <td>0.0</td>\n",
       "      <td>29.515663</td>\n",
       "      <td>0.000000</td>\n",
       "      <td>0.0</td>\n",
       "      <td>0.0</td>\n",
       "      <td>0.0</td>\n",
       "      <td>0.0</td>\n",
       "      <td>0.000000</td>\n",
       "      <td>0.000000</td>\n",
       "      <td>70.484337</td>\n",
       "      <td>0.000000</td>\n",
       "      <td>0</td>\n",
       "      <td>0</td>\n",
       "      <td>0</td>\n",
       "      <td>1</td>\n",
       "      <td>0</td>\n",
       "      <td>0</td>\n",
       "      <td>0</td>\n",
       "      <td>0</td>\n",
       "      <td>0</td>\n",
       "      <td>0</td>\n",
       "      <td>0</td>\n",
       "      <td>0</td>\n",
       "      <td>0</td>\n",
       "    </tr>\n",
       "    <tr>\n",
       "      <th>1</th>\n",
       "      <td>1.0</td>\n",
       "      <td>8</td>\n",
       "      <td>102761.0</td>\n",
       "      <td>NaN</td>\n",
       "      <td>68.800003</td>\n",
       "      <td>2.16</td>\n",
       "      <td>36.142257</td>\n",
       "      <td>57.741817</td>\n",
       "      <td>6.115926</td>\n",
       "      <td>97</td>\n",
       "      <td>0.000000</td>\n",
       "      <td>0.0</td>\n",
       "      <td>0.0</td>\n",
       "      <td>0.000000</td>\n",
       "      <td>100.000000</td>\n",
       "      <td>0.0</td>\n",
       "      <td>0.0</td>\n",
       "      <td>0.0</td>\n",
       "      <td>0.0</td>\n",
       "      <td>0.000000</td>\n",
       "      <td>0.000000</td>\n",
       "      <td>0.000000</td>\n",
       "      <td>0.000000</td>\n",
       "      <td>0</td>\n",
       "      <td>0</td>\n",
       "      <td>0</td>\n",
       "      <td>1</td>\n",
       "      <td>0</td>\n",
       "      <td>0</td>\n",
       "      <td>0</td>\n",
       "      <td>0</td>\n",
       "      <td>0</td>\n",
       "      <td>0</td>\n",
       "      <td>0</td>\n",
       "      <td>0</td>\n",
       "      <td>0</td>\n",
       "    </tr>\n",
       "    <tr>\n",
       "      <th>2</th>\n",
       "      <td>1.0</td>\n",
       "      <td>11</td>\n",
       "      <td>414987.0</td>\n",
       "      <td>NaN</td>\n",
       "      <td>51.099998</td>\n",
       "      <td>0.44</td>\n",
       "      <td>3.967751</td>\n",
       "      <td>96.032249</td>\n",
       "      <td>0.000000</td>\n",
       "      <td>19</td>\n",
       "      <td>0.258803</td>\n",
       "      <td>0.0</td>\n",
       "      <td>0.0</td>\n",
       "      <td>11.807599</td>\n",
       "      <td>0.000000</td>\n",
       "      <td>0.0</td>\n",
       "      <td>0.0</td>\n",
       "      <td>0.0</td>\n",
       "      <td>0.0</td>\n",
       "      <td>0.000000</td>\n",
       "      <td>87.933598</td>\n",
       "      <td>0.000000</td>\n",
       "      <td>0.000000</td>\n",
       "      <td>0</td>\n",
       "      <td>0</td>\n",
       "      <td>0</td>\n",
       "      <td>1</td>\n",
       "      <td>0</td>\n",
       "      <td>0</td>\n",
       "      <td>0</td>\n",
       "      <td>0</td>\n",
       "      <td>0</td>\n",
       "      <td>0</td>\n",
       "      <td>0</td>\n",
       "      <td>0</td>\n",
       "      <td>0</td>\n",
       "    </tr>\n",
       "    <tr>\n",
       "      <th>3</th>\n",
       "      <td>1.0</td>\n",
       "      <td>6</td>\n",
       "      <td>130000.0</td>\n",
       "      <td>NaN</td>\n",
       "      <td>78.400002</td>\n",
       "      <td>4.18</td>\n",
       "      <td>46.124599</td>\n",
       "      <td>44.733739</td>\n",
       "      <td>9.141662</td>\n",
       "      <td>93</td>\n",
       "      <td>0.000000</td>\n",
       "      <td>0.0</td>\n",
       "      <td>0.0</td>\n",
       "      <td>0.000000</td>\n",
       "      <td>69.230769</td>\n",
       "      <td>0.0</td>\n",
       "      <td>0.0</td>\n",
       "      <td>0.0</td>\n",
       "      <td>0.0</td>\n",
       "      <td>30.769231</td>\n",
       "      <td>0.000000</td>\n",
       "      <td>0.000000</td>\n",
       "      <td>0.000000</td>\n",
       "      <td>0</td>\n",
       "      <td>0</td>\n",
       "      <td>0</td>\n",
       "      <td>1</td>\n",
       "      <td>0</td>\n",
       "      <td>0</td>\n",
       "      <td>0</td>\n",
       "      <td>0</td>\n",
       "      <td>0</td>\n",
       "      <td>0</td>\n",
       "      <td>0</td>\n",
       "      <td>0</td>\n",
       "      <td>0</td>\n",
       "    </tr>\n",
       "    <tr>\n",
       "      <th>4</th>\n",
       "      <td>1.0</td>\n",
       "      <td>5</td>\n",
       "      <td>57452.0</td>\n",
       "      <td>NaN</td>\n",
       "      <td>137.100006</td>\n",
       "      <td>4.75</td>\n",
       "      <td>23.352383</td>\n",
       "      <td>49.497101</td>\n",
       "      <td>27.150516</td>\n",
       "      <td>116</td>\n",
       "      <td>0.000000</td>\n",
       "      <td>0.0</td>\n",
       "      <td>0.0</td>\n",
       "      <td>0.000000</td>\n",
       "      <td>28.618673</td>\n",
       "      <td>0.0</td>\n",
       "      <td>0.0</td>\n",
       "      <td>0.0</td>\n",
       "      <td>0.0</td>\n",
       "      <td>16.955023</td>\n",
       "      <td>0.000000</td>\n",
       "      <td>0.000000</td>\n",
       "      <td>26.987746</td>\n",
       "      <td>0</td>\n",
       "      <td>0</td>\n",
       "      <td>0</td>\n",
       "      <td>1</td>\n",
       "      <td>0</td>\n",
       "      <td>0</td>\n",
       "      <td>0</td>\n",
       "      <td>0</td>\n",
       "      <td>0</td>\n",
       "      <td>0</td>\n",
       "      <td>0</td>\n",
       "      <td>0</td>\n",
       "      <td>0</td>\n",
       "    </tr>\n",
       "  </tbody>\n",
       "</table>\n",
       "</div>"
      ],
      "text/plain": [
       "   NumberofBuildings  NumberofFloors  PropertyGFATotal  ENERGYSTARScore  \\\n",
       "0                1.0               2          126028.0              NaN   \n",
       "1                1.0               8          102761.0              NaN   \n",
       "2                1.0              11          414987.0              NaN   \n",
       "3                1.0               6          130000.0              NaN   \n",
       "4                1.0               5           57452.0              NaN   \n",
       "\n",
       "   SiteEUIWN(kBtu/sf)  GHGEmissionsIntensity  SteamUse(%)  Electricity(%)  \\\n",
       "0          141.600006                   3.10     0.000000       60.988402   \n",
       "1           68.800003                   2.16    36.142257       57.741817   \n",
       "2           51.099998                   0.44     3.967751       96.032249   \n",
       "3           78.400002                   4.18    46.124599       44.733739   \n",
       "4          137.100006                   4.75    23.352383       49.497101   \n",
       "\n",
       "   NaturalGas(%)  AgePropriete  Entrepôts réfrigérés et Data Center  \\\n",
       "0      39.011598            24                             0.000000   \n",
       "1       6.115926            97                             0.000000   \n",
       "2       0.000000            19                             0.258803   \n",
       "3       9.141662            93                             0.000000   \n",
       "4      27.150516           116                             0.000000   \n",
       "\n",
       "   Education  Stockage    Parking  Activités sociales  Santé et Recherche  \\\n",
       "0        0.0       0.0  29.515663            0.000000                 0.0   \n",
       "1        0.0       0.0   0.000000          100.000000                 0.0   \n",
       "2        0.0       0.0  11.807599            0.000000                 0.0   \n",
       "3        0.0       0.0   0.000000           69.230769                 0.0   \n",
       "4        0.0       0.0   0.000000           28.618673                 0.0   \n",
       "\n",
       "   Hébergement  Gros commerces  Usines    Bureaux  Petits commerces  \\\n",
       "0          0.0             0.0     0.0   0.000000          0.000000   \n",
       "1          0.0             0.0     0.0   0.000000          0.000000   \n",
       "2          0.0             0.0     0.0   0.000000         87.933598   \n",
       "3          0.0             0.0     0.0  30.769231          0.000000   \n",
       "4          0.0             0.0     0.0  16.955023          0.000000   \n",
       "\n",
       "   Autre et services  Restauration  Neighborhood_ballard  \\\n",
       "0          70.484337      0.000000                     0   \n",
       "1           0.000000      0.000000                     0   \n",
       "2           0.000000      0.000000                     0   \n",
       "3           0.000000      0.000000                     0   \n",
       "4           0.000000     26.987746                     0   \n",
       "\n",
       "   Neighborhood_central  Neighborhood_delridge  Neighborhood_downtown  \\\n",
       "0                     0                      0                      1   \n",
       "1                     0                      0                      1   \n",
       "2                     0                      0                      1   \n",
       "3                     0                      0                      1   \n",
       "4                     0                      0                      1   \n",
       "\n",
       "   Neighborhood_east  Neighborhood_greater duwamish  Neighborhood_lake union  \\\n",
       "0                  0                              0                        0   \n",
       "1                  0                              0                        0   \n",
       "2                  0                              0                        0   \n",
       "3                  0                              0                        0   \n",
       "4                  0                              0                        0   \n",
       "\n",
       "   Neighborhood_magnolia and queen anne  Neighborhood_north  \\\n",
       "0                                     0                   0   \n",
       "1                                     0                   0   \n",
       "2                                     0                   0   \n",
       "3                                     0                   0   \n",
       "4                                     0                   0   \n",
       "\n",
       "   Neighborhood_northeast  Neighborhood_northwest  Neighborhood_southeast  \\\n",
       "0                       0                       0                       0   \n",
       "1                       0                       0                       0   \n",
       "2                       0                       0                       0   \n",
       "3                       0                       0                       0   \n",
       "4                       0                       0                       0   \n",
       "\n",
       "   Neighborhood_southwest  \n",
       "0                       0  \n",
       "1                       0  \n",
       "2                       0  \n",
       "3                       0  \n",
       "4                       0  "
      ]
     },
     "execution_count": 5,
     "metadata": {},
     "output_type": "execute_result"
    }
   ],
   "source": [
    "# Ouverture de dataframe pour la validation\n",
    "file = pd.read_csv(\"jeu_validation.csv\")\n",
    "pd.set_option(\"display.max_rows\", None)\n",
    "pd.set_option(\"display.max_columns\", None)\n",
    "file.head()"
   ]
  },
  {
   "cell_type": "code",
   "execution_count": 6,
   "id": "3670871f",
   "metadata": {},
   "outputs": [],
   "source": [
    "# Copie du fichier\n",
    "validation = file.copy()"
   ]
  },
  {
   "cell_type": "code",
   "execution_count": 7,
   "id": "0b2bda3d",
   "metadata": {},
   "outputs": [
    {
     "name": "stdout",
     "output_type": "stream",
     "text": [
      "<class 'pandas.core.frame.DataFrame'>\n",
      "RangeIndex: 516 entries, 0 to 515\n",
      "Data columns (total 36 columns):\n",
      " #   Column                                Non-Null Count  Dtype  \n",
      "---  ------                                --------------  -----  \n",
      " 0   NumberofBuildings                     516 non-null    float64\n",
      " 1   NumberofFloors                        516 non-null    int64  \n",
      " 2   PropertyGFATotal                      516 non-null    float64\n",
      " 3   ENERGYSTARScore                       0 non-null      float64\n",
      " 4   SiteEUIWN(kBtu/sf)                    516 non-null    float64\n",
      " 5   GHGEmissionsIntensity                 516 non-null    float64\n",
      " 6   SteamUse(%)                           516 non-null    float64\n",
      " 7   Electricity(%)                        516 non-null    float64\n",
      " 8   NaturalGas(%)                         516 non-null    float64\n",
      " 9   AgePropriete                          516 non-null    int64  \n",
      " 10  Entrepôts réfrigérés et Data Center   516 non-null    float64\n",
      " 11  Education                             516 non-null    float64\n",
      " 12  Stockage                              516 non-null    float64\n",
      " 13  Parking                               516 non-null    float64\n",
      " 14  Activités sociales                    516 non-null    float64\n",
      " 15  Santé et Recherche                    516 non-null    float64\n",
      " 16  Hébergement                           516 non-null    float64\n",
      " 17  Gros commerces                        516 non-null    float64\n",
      " 18  Usines                                516 non-null    float64\n",
      " 19  Bureaux                               516 non-null    float64\n",
      " 20  Petits commerces                      516 non-null    float64\n",
      " 21  Autre et services                     516 non-null    float64\n",
      " 22  Restauration                          516 non-null    float64\n",
      " 23  Neighborhood_ballard                  516 non-null    int64  \n",
      " 24  Neighborhood_central                  516 non-null    int64  \n",
      " 25  Neighborhood_delridge                 516 non-null    int64  \n",
      " 26  Neighborhood_downtown                 516 non-null    int64  \n",
      " 27  Neighborhood_east                     516 non-null    int64  \n",
      " 28  Neighborhood_greater duwamish         516 non-null    int64  \n",
      " 29  Neighborhood_lake union               516 non-null    int64  \n",
      " 30  Neighborhood_magnolia and queen anne  516 non-null    int64  \n",
      " 31  Neighborhood_north                    516 non-null    int64  \n",
      " 32  Neighborhood_northeast                516 non-null    int64  \n",
      " 33  Neighborhood_northwest                516 non-null    int64  \n",
      " 34  Neighborhood_southeast                516 non-null    int64  \n",
      " 35  Neighborhood_southwest                516 non-null    int64  \n",
      "dtypes: float64(21), int64(15)\n",
      "memory usage: 145.2 KB\n"
     ]
    }
   ],
   "source": [
    "# Infos sur le jeu de données\n",
    "validation.info()"
   ]
  },
  {
   "cell_type": "markdown",
   "id": "1fd79d2a",
   "metadata": {},
   "source": [
    "# Prédiction de l'intensité de l'émission des gaz à effet de serre"
   ]
  },
  {
   "cell_type": "markdown",
   "id": "7c430e00",
   "metadata": {},
   "source": [
    "## 1. Préparation des données"
   ]
  },
  {
   "cell_type": "markdown",
   "id": "574ec111",
   "metadata": {},
   "source": [
    "### 1.1. Séparation du jeu de données "
   ]
  },
  {
   "cell_type": "code",
   "execution_count": 8,
   "id": "ccd06d77",
   "metadata": {},
   "outputs": [],
   "source": [
    "X = df.drop(['SiteEUIWN(kBtu/sf)', 'GHGEmissionsIntensity', \"ENERGYSTARScore\"], axis=1)\n",
    "y = df[\"GHGEmissionsIntensity\"]\n",
    "\n",
    "X_train, X_test, y_train, y_test = train_test_split(X, y, test_size=0.2, random_state=42)"
   ]
  },
  {
   "cell_type": "code",
   "execution_count": 9,
   "id": "efe83884",
   "metadata": {},
   "outputs": [
    {
     "name": "stdout",
     "output_type": "stream",
     "text": [
      "X_train: (773, 33)\n",
      "X_test: (194, 33)\n",
      "y_train: (773,)\n",
      "y_test: (194,)\n"
     ]
    }
   ],
   "source": [
    "# Vérification des dimensions \n",
    "print(f'X_train: {X_train.shape}')\n",
    "print(f'X_test: {X_test.shape}')\n",
    "print(f'y_train: {y_train.shape}')\n",
    "print(f'y_test: {y_test.shape}')"
   ]
  },
  {
   "cell_type": "markdown",
   "id": "f4b49737",
   "metadata": {},
   "source": [
    "### 1.2. Fonction de passage de la target y à l'échelle logarithmique"
   ]
  },
  {
   "cell_type": "code",
   "execution_count": 10,
   "id": "97be83bd",
   "metadata": {},
   "outputs": [],
   "source": [
    "transformer = FunctionTransformer(np.log, inverse_func = np.exp, check_inverse = True)"
   ]
  },
  {
   "cell_type": "markdown",
   "id": "d14f6123",
   "metadata": {},
   "source": [
    "## 2. Modélisations sans l'Energy Star Score"
   ]
  },
  {
   "cell_type": "markdown",
   "id": "07764972",
   "metadata": {},
   "source": [
    "**Les modèles testés dans ce notebook seront les mêmes que ceux utilisés pour la prédiction de la consommation en énergie, modèles non sensibles au scaling des données, et ce en suivant la même démarche.**\n",
    "\n",
    "**Pour rappel:**\n",
    "- **Le modèle de Régression Linaire pour établir une baseline**\n",
    "- **3 modèles de régression linéaire: Les modèles Lasso, Ridge et ElasticNet**\n",
    "- **3 méthodes ensemblistes de régression non linéaires: Les RandomForestRegressor, GradientBoostingRegressor et XGBRegressor.**"
   ]
  },
  {
   "cell_type": "markdown",
   "id": "5d74ef1b",
   "metadata": {},
   "source": [
    "### 2.1. Modélisation sans recherche de paramètres"
   ]
  },
  {
   "cell_type": "markdown",
   "id": "f51d2b7f",
   "metadata": {},
   "source": [
    "**1. LISTE DES MODELES A TESTER**"
   ]
  },
  {
   "cell_type": "code",
   "execution_count": 11,
   "id": "5f5974df",
   "metadata": {},
   "outputs": [],
   "source": [
    "models = [LinearRegression(), Ridge(random_state=42), Lasso(random_state=42), ElasticNet(random_state=42), \n",
    "          RandomForestRegressor(random_state=42), GradientBoostingRegressor(random_state=42), XGBRegressor()]"
   ]
  },
  {
   "cell_type": "markdown",
   "id": "773fd438",
   "metadata": {},
   "source": [
    "**2. CREATION D'UNE FONCTION POUR COMPARER L'ENSEMBLE DES MODELES EN UNE FOIS SANS RECHERCHE DE PARAMETRES**"
   ]
  },
  {
   "cell_type": "code",
   "execution_count": 12,
   "id": "e1c1e3d1",
   "metadata": {},
   "outputs": [],
   "source": [
    "def basic_gas(models):\n",
    "    '''Comparaison des différents modèles pour la prédiction de l'intensité de l'émission des gaz à effet de serre'''\n",
    "    \n",
    "    print('Comparaison des différents modèles pour la prédiction \\n de l\\'intensité de l\\'émission des gaz à effet de serre') \n",
    " \n",
    "    cols = ['LinearRegression', 'Ridge', 'Lasso', 'ElasticNet', 'RFR', 'GBR', 'XGBR']\n",
    "    index = ['Training Time', 'Train R²','Train RMSE', 'Train MSE', 'Train MAE', 'Test R²','Test RMSE', 'Test MSE', 'Test MAE']\n",
    "    \n",
    "    results_standard = pd.DataFrame(index=index, columns=cols)\n",
    "    \n",
    "    \n",
    "    col = 0\n",
    "    \n",
    "    start_time = time.time()\n",
    "    for model in models:\n",
    "        model_regressor = TransformedTargetRegressor(regressor=model, transformer=transformer)\n",
    "        model_fit = model_regressor.fit(X_train, y_train)\n",
    "        model_y_pred_train = model_regressor.predict(X_train)\n",
    "        model_y_pred_test = model_regressor.predict(X_test)\n",
    "\n",
    "        results_standard.iloc[0,col] = time.time() - start_time\n",
    "        \n",
    "        results_standard.iloc[1,col] = r2_score(y_train, model_y_pred_train)\n",
    "        results_standard.iloc[2,col] = np.sqrt(mean_squared_error(y_train, model_y_pred_train))\n",
    "        results_standard.iloc[3,col] = mean_squared_error(y_train, model_y_pred_train)\n",
    "        results_standard.iloc[4,col] = mean_absolute_error(y_train, model_y_pred_train) \n",
    "        \n",
    "        results_standard.iloc[5,col] = r2_score(y_test,model_y_pred_test)\n",
    "        results_standard.iloc[6,col] = np.sqrt(mean_squared_error(y_test, model_y_pred_test))\n",
    "        results_standard.iloc[7,col] = mean_squared_error(y_test, model_y_pred_test)\n",
    "        results_standard.iloc[8,col] = mean_absolute_error(y_test, model_y_pred_test)\n",
    "       \n",
    "        col += 1\n",
    "\n",
    "    return results_standard"
   ]
  },
  {
   "cell_type": "code",
   "execution_count": 13,
   "id": "49431def",
   "metadata": {
    "scrolled": true
   },
   "outputs": [
    {
     "name": "stdout",
     "output_type": "stream",
     "text": [
      "Comparaison des différents modèles pour la prédiction \n",
      " de l'intensité de l'émission des gaz à effet de serre\n"
     ]
    },
    {
     "data": {
      "text/html": [
       "<div>\n",
       "<style scoped>\n",
       "    .dataframe tbody tr th:only-of-type {\n",
       "        vertical-align: middle;\n",
       "    }\n",
       "\n",
       "    .dataframe tbody tr th {\n",
       "        vertical-align: top;\n",
       "    }\n",
       "\n",
       "    .dataframe thead th {\n",
       "        text-align: right;\n",
       "    }\n",
       "</style>\n",
       "<table border=\"1\" class=\"dataframe\">\n",
       "  <thead>\n",
       "    <tr style=\"text-align: right;\">\n",
       "      <th></th>\n",
       "      <th>LinearRegression</th>\n",
       "      <th>Ridge</th>\n",
       "      <th>Lasso</th>\n",
       "      <th>ElasticNet</th>\n",
       "      <th>RFR</th>\n",
       "      <th>GBR</th>\n",
       "      <th>XGBR</th>\n",
       "    </tr>\n",
       "  </thead>\n",
       "  <tbody>\n",
       "    <tr>\n",
       "      <th>Training Time</th>\n",
       "      <td>0.01301</td>\n",
       "      <td>0.016727</td>\n",
       "      <td>0.028735</td>\n",
       "      <td>0.033494</td>\n",
       "      <td>0.457</td>\n",
       "      <td>0.582772</td>\n",
       "      <td>1.205339</td>\n",
       "    </tr>\n",
       "    <tr>\n",
       "      <th>Train R²</th>\n",
       "      <td>0.624847</td>\n",
       "      <td>0.625227</td>\n",
       "      <td>0.534675</td>\n",
       "      <td>0.576581</td>\n",
       "      <td>0.911985</td>\n",
       "      <td>0.82556</td>\n",
       "      <td>0.996601</td>\n",
       "    </tr>\n",
       "    <tr>\n",
       "      <th>Train RMSE</th>\n",
       "      <td>1.042625</td>\n",
       "      <td>1.042096</td>\n",
       "      <td>1.161187</td>\n",
       "      <td>1.107666</td>\n",
       "      <td>0.505013</td>\n",
       "      <td>0.710963</td>\n",
       "      <td>0.099248</td>\n",
       "    </tr>\n",
       "    <tr>\n",
       "      <th>Train MSE</th>\n",
       "      <td>1.087068</td>\n",
       "      <td>1.085965</td>\n",
       "      <td>1.348356</td>\n",
       "      <td>1.226925</td>\n",
       "      <td>0.255038</td>\n",
       "      <td>0.505468</td>\n",
       "      <td>0.00985</td>\n",
       "    </tr>\n",
       "    <tr>\n",
       "      <th>Train MAE</th>\n",
       "      <td>0.540101</td>\n",
       "      <td>0.539771</td>\n",
       "      <td>0.599104</td>\n",
       "      <td>0.57187</td>\n",
       "      <td>0.21878</td>\n",
       "      <td>0.368146</td>\n",
       "      <td>0.047067</td>\n",
       "    </tr>\n",
       "    <tr>\n",
       "      <th>Test R²</th>\n",
       "      <td>0.477957</td>\n",
       "      <td>0.489518</td>\n",
       "      <td>0.455774</td>\n",
       "      <td>0.521177</td>\n",
       "      <td>0.741191</td>\n",
       "      <td>0.760482</td>\n",
       "      <td>0.714724</td>\n",
       "    </tr>\n",
       "    <tr>\n",
       "      <th>Test RMSE</th>\n",
       "      <td>0.905172</td>\n",
       "      <td>0.895092</td>\n",
       "      <td>0.924202</td>\n",
       "      <td>0.866893</td>\n",
       "      <td>0.637334</td>\n",
       "      <td>0.613121</td>\n",
       "      <td>0.66913</td>\n",
       "    </tr>\n",
       "    <tr>\n",
       "      <th>Test MSE</th>\n",
       "      <td>0.819336</td>\n",
       "      <td>0.80119</td>\n",
       "      <td>0.85415</td>\n",
       "      <td>0.751503</td>\n",
       "      <td>0.406195</td>\n",
       "      <td>0.375918</td>\n",
       "      <td>0.447735</td>\n",
       "    </tr>\n",
       "    <tr>\n",
       "      <th>Test MAE</th>\n",
       "      <td>0.448059</td>\n",
       "      <td>0.446534</td>\n",
       "      <td>0.480689</td>\n",
       "      <td>0.455982</td>\n",
       "      <td>0.377495</td>\n",
       "      <td>0.371699</td>\n",
       "      <td>0.405424</td>\n",
       "    </tr>\n",
       "  </tbody>\n",
       "</table>\n",
       "</div>"
      ],
      "text/plain": [
       "              LinearRegression     Ridge     Lasso ElasticNet       RFR  \\\n",
       "Training Time          0.01301  0.016727  0.028735   0.033494     0.457   \n",
       "Train R²              0.624847  0.625227  0.534675   0.576581  0.911985   \n",
       "Train RMSE            1.042625  1.042096  1.161187   1.107666  0.505013   \n",
       "Train MSE             1.087068  1.085965  1.348356   1.226925  0.255038   \n",
       "Train MAE             0.540101  0.539771  0.599104    0.57187   0.21878   \n",
       "Test R²               0.477957  0.489518  0.455774   0.521177  0.741191   \n",
       "Test RMSE             0.905172  0.895092  0.924202   0.866893  0.637334   \n",
       "Test MSE              0.819336   0.80119   0.85415   0.751503  0.406195   \n",
       "Test MAE              0.448059  0.446534  0.480689   0.455982  0.377495   \n",
       "\n",
       "                    GBR      XGBR  \n",
       "Training Time  0.582772  1.205339  \n",
       "Train R²        0.82556  0.996601  \n",
       "Train RMSE     0.710963  0.099248  \n",
       "Train MSE      0.505468   0.00985  \n",
       "Train MAE      0.368146  0.047067  \n",
       "Test R²        0.760482  0.714724  \n",
       "Test RMSE      0.613121   0.66913  \n",
       "Test MSE       0.375918  0.447735  \n",
       "Test MAE       0.371699  0.405424  "
      ]
     },
     "execution_count": 13,
     "metadata": {},
     "output_type": "execute_result"
    }
   ],
   "source": [
    "results_standard = basic_gas(models=models)\n",
    "results_standard"
   ]
  },
  {
   "cell_type": "markdown",
   "id": "37de3ed7",
   "metadata": {},
   "source": [
    "**CONCLUSION: Concernant les méthodes ensemblistes, nous sommes déjà en présence de résultats très prometteurs sans réglage de paramètres. Néanmoins, un passage via GridSearchCV sera effectué afin d'effectuer à minima des cross-validation.**"
   ]
  },
  {
   "cell_type": "markdown",
   "id": "2a963d3d",
   "metadata": {},
   "source": [
    "### 2.2. Modélisation avec recherche de paramètres via GridSearchCV"
   ]
  },
  {
   "cell_type": "markdown",
   "id": "d3fda0ab",
   "metadata": {},
   "source": [
    "**1. RECHERCHE DES PARAMETRES POUR CHAQUE MODELE**"
   ]
  },
  {
   "cell_type": "markdown",
   "id": "5ac03425",
   "metadata": {},
   "source": [
    "**La baseline**"
   ]
  },
  {
   "cell_type": "code",
   "execution_count": 14,
   "id": "36be3e1d",
   "metadata": {},
   "outputs": [],
   "source": [
    "# Il n'existe pas de paramètres pour la régression linéaire\n",
    "baseline_1 = LinearRegression()"
   ]
  },
  {
   "cell_type": "markdown",
   "id": "9404f50f",
   "metadata": {},
   "source": [
    "**Le modèle Ridge**"
   ]
  },
  {
   "cell_type": "code",
   "execution_count": 15,
   "id": "2a4581f2",
   "metadata": {},
   "outputs": [
    {
     "data": {
      "text/plain": [
       "{'regressor__alpha': 0.1, 'regressor__max_iter': 10}"
      ]
     },
     "execution_count": 15,
     "metadata": {},
     "output_type": "execute_result"
    }
   ],
   "source": [
    "ridge = Ridge(normalize=True, random_state=42)\n",
    "\n",
    "# Définir la fonction de transformation logarithmique\n",
    "transformer = FunctionTransformer(np.log, inverse_func = np.exp, check_inverse = True)\n",
    "\n",
    "# Passage au log de la Target\n",
    "ridge_regressor = TransformedTargetRegressor(regressor=ridge, transformer=transformer)\n",
    "\n",
    "# Dictionnaire des paramètres testés\n",
    "ridge_param = {'regressor__alpha': [0.0001, 0.001, 0.01, 0.1, 1], 'regressor__max_iter': [10, 100, 200, 400, 600, 800, 1000]}\n",
    "\n",
    "# Recherche des meilleurs paramètres\n",
    "grid_ridge = GridSearchCV(ridge_regressor, param_grid= ridge_param, cv = 5, scoring='r2')\n",
    "grid_ridge.fit(X_train, y_train)\n",
    "\n",
    "# Meilleurs hyperparamètres\n",
    "best_param_ridge = grid_ridge.best_params_\n",
    "best_param_ridge"
   ]
  },
  {
   "cell_type": "code",
   "execution_count": 16,
   "id": "8494f817",
   "metadata": {},
   "outputs": [],
   "source": [
    "ridge_1 = Ridge(alpha=0.1, max_iter=10, random_state=42, normalize=True)"
   ]
  },
  {
   "cell_type": "markdown",
   "id": "122edf39",
   "metadata": {},
   "source": [
    "*Le cv_results avec les meilleurs hyperparamètres*"
   ]
  },
  {
   "cell_type": "code",
   "execution_count": 17,
   "id": "e6dbe153",
   "metadata": {},
   "outputs": [
    {
     "data": {
      "text/plain": [
       "{'mean_fit_time': array([0.00446782]),\n",
       " 'std_fit_time': array([0.00580473]),\n",
       " 'mean_score_time': array([0.00370932]),\n",
       " 'std_score_time': array([0.00323561]),\n",
       " 'param_regressor__alpha': masked_array(data=[0.1],\n",
       "              mask=[False],\n",
       "        fill_value='?',\n",
       "             dtype=object),\n",
       " 'param_regressor__max_iter': masked_array(data=[10],\n",
       "              mask=[False],\n",
       "        fill_value='?',\n",
       "             dtype=object),\n",
       " 'params': [{'regressor__alpha': 0.1, 'regressor__max_iter': 10}],\n",
       " 'split0_test_score': array([0.53050534]),\n",
       " 'split1_test_score': array([0.64826457]),\n",
       " 'split2_test_score': array([0.54023809]),\n",
       " 'split3_test_score': array([0.64432061]),\n",
       " 'split4_test_score': array([0.51327999]),\n",
       " 'mean_test_score': array([0.57532172]),\n",
       " 'std_test_score': array([0.05860043]),\n",
       " 'rank_test_score': array([1])}"
      ]
     },
     "execution_count": 17,
     "metadata": {},
     "output_type": "execute_result"
    }
   ],
   "source": [
    "ridge = Ridge(normalize=True, random_state=42)\n",
    "\n",
    "# Définir la fonction de transformation logarithmique\n",
    "transformer = FunctionTransformer(np.log, inverse_func = np.exp, check_inverse = True)\n",
    "\n",
    "# Passage au log de la Target\n",
    "ridge_regressor = TransformedTargetRegressor(regressor=ridge, transformer=transformer)\n",
    "\n",
    "# Dictionnaire des paramètres testés\n",
    "ridge_param = {'regressor__alpha': [0.1], 'regressor__max_iter': [10]}\n",
    "\n",
    "# Recherche des meilleurs paramètres\n",
    "grid_ridge = GridSearchCV(ridge_regressor, param_grid= ridge_param, cv = 5, scoring='r2')\n",
    "grid_ridge.fit(X_train, y_train)\n",
    "\n",
    "# cv_results\n",
    "grid_ridge.cv_results_"
   ]
  },
  {
   "cell_type": "markdown",
   "id": "52c0bd39",
   "metadata": {},
   "source": [
    "**Le modèle Lasso**"
   ]
  },
  {
   "cell_type": "code",
   "execution_count": 18,
   "id": "5837dfb4",
   "metadata": {
    "collapsed": true
   },
   "outputs": [
    {
     "data": {
      "text/plain": [
       "\"lasso = Lasso(random_state=42)\\n\\n# Définition de la fonction de transformation logarithmique\\ntransformer = FunctionTransformer(np.log, inverse_func = np.exp, check_inverse = True)\\n\\n# Passage au log de la Target\\nlasso_regressor = TransformedTargetRegressor(regressor=lasso, transformer=transformer)\\n\\n# Dictionnaire des paramètres testés\\nlasso_param = {'regressor__alpha': [0.0001, 0.001, 0.01, 0.1, 1], 'regressor__max_iter': [2000, 5000, 10000, 1000000]}\\n\\n# Recherche des meilleurs paramètres\\ngrid_lasso = GridSearchCV(lasso_regressor, param_grid= lasso_param, cv = 5, scoring='r2')\\ngrid_lasso.fit(X_train, y_train)\\n\\n# Meilleurs hyperparamètres\\nbest_param_lasso = grid_lasso.best_params_\\nbest_param_lasso\""
      ]
     },
     "execution_count": 18,
     "metadata": {},
     "output_type": "execute_result"
    }
   ],
   "source": [
    "'''lasso = Lasso(random_state=42)\n",
    "\n",
    "# Définition de la fonction de transformation logarithmique\n",
    "transformer = FunctionTransformer(np.log, inverse_func = np.exp, check_inverse = True)\n",
    "\n",
    "# Passage au log de la Target\n",
    "lasso_regressor = TransformedTargetRegressor(regressor=lasso, transformer=transformer)\n",
    "\n",
    "# Dictionnaire des paramètres testés\n",
    "lasso_param = {'regressor__alpha': [0.0001, 0.001, 0.01, 0.1, 1], 'regressor__max_iter': [2000, 5000, 10000, 1000000]}\n",
    "\n",
    "# Recherche des meilleurs paramètres\n",
    "grid_lasso = GridSearchCV(lasso_regressor, param_grid= lasso_param, cv = 5, scoring='r2')\n",
    "grid_lasso.fit(X_train, y_train)\n",
    "\n",
    "# Meilleurs hyperparamètres\n",
    "best_param_lasso = grid_lasso.best_params_\n",
    "best_param_lasso'''"
   ]
  },
  {
   "cell_type": "markdown",
   "id": "e82576bf",
   "metadata": {},
   "source": [
    "Ouput de la recherche: {'regressor__alpha': 0.01, 'regressor__max_iter': 2000}"
   ]
  },
  {
   "cell_type": "code",
   "execution_count": 19,
   "id": "b9906460",
   "metadata": {},
   "outputs": [],
   "source": [
    "lasso_1 = Lasso(alpha=0.01, max_iter=2000, random_state=42, normalize=True)"
   ]
  },
  {
   "cell_type": "markdown",
   "id": "930e7e23",
   "metadata": {},
   "source": [
    "**L'elasticNet**"
   ]
  },
  {
   "cell_type": "code",
   "execution_count": 20,
   "id": "eaaf739f",
   "metadata": {
    "collapsed": true
   },
   "outputs": [
    {
     "data": {
      "text/plain": [
       "\"el = ElasticNet(random_state=42)\\n\\n# Définition de la fonction de transformation logarithmique\\ntransformer = FunctionTransformer(np.log, inverse_func = np.exp, check_inverse = True)\\n\\n# Passage au log de la Target\\nel_regressor = TransformedTargetRegressor(regressor=el, transformer=transformer)\\n\\n# Dictionnaire des paramètres testés\\nel_param = {'regressor__l1_ratio': [0, 0.1, 0.2, 0.3, 0.4, 0.5, 0.6, 0.7, 0.8, 0.9, 1], 'regressor__alpha':[100, 10 ,1 , 0.1, 0.01, 0.001], 'regressor__max_iter': [1000, 2000, 5000]}\\n\\n# Recherche des meilleurs paramètres\\ngrid_el = GridSearchCV(el_regressor, param_grid= el_param, cv = 5, scoring='r2')\\ngrid_el.fit(X_train, y_train)\\n\\n# Meilleurs hyperparamètres\\nbest_param_el = grid_el.best_params_\\nbest_param_el\""
      ]
     },
     "execution_count": 20,
     "metadata": {},
     "output_type": "execute_result"
    }
   ],
   "source": [
    "'''el = ElasticNet(random_state=42)\n",
    "\n",
    "# Définition de la fonction de transformation logarithmique\n",
    "transformer = FunctionTransformer(np.log, inverse_func = np.exp, check_inverse = True)\n",
    "\n",
    "# Passage au log de la Target\n",
    "el_regressor = TransformedTargetRegressor(regressor=el, transformer=transformer)\n",
    "\n",
    "# Dictionnaire des paramètres testés\n",
    "el_param = {'regressor__l1_ratio': [0, 0.1, 0.2, 0.3, 0.4, 0.5, 0.6, 0.7, 0.8, 0.9, 1], 'regressor__alpha':[100, 10 ,1 , 0.1, 0.01, 0.001], 'regressor__max_iter': [1000, 2000, 5000]}\n",
    "\n",
    "# Recherche des meilleurs paramètres\n",
    "grid_el = GridSearchCV(el_regressor, param_grid= el_param, cv = 5, scoring='r2')\n",
    "grid_el.fit(X_train, y_train)\n",
    "\n",
    "# Meilleurs hyperparamètres\n",
    "best_param_el = grid_el.best_params_\n",
    "best_param_el'''"
   ]
  },
  {
   "cell_type": "markdown",
   "id": "bae900b6",
   "metadata": {},
   "source": [
    "Output de la recherche : {'regressor__alpha': 0.01,\n",
    " 'regressor__l1_ratio': 0.3,\n",
    " 'regressor__max_iter': 1000}"
   ]
  },
  {
   "cell_type": "code",
   "execution_count": 21,
   "id": "6122ef61",
   "metadata": {},
   "outputs": [],
   "source": [
    "el_1 = ElasticNet(alpha=0.01, max_iter= 1000, l1_ratio=0.3, random_state=42)"
   ]
  },
  {
   "cell_type": "markdown",
   "id": "366252c2",
   "metadata": {},
   "source": [
    "**Le Random Forest Regressor**"
   ]
  },
  {
   "cell_type": "code",
   "execution_count": 22,
   "id": "8bc43647",
   "metadata": {
    "collapsed": true
   },
   "outputs": [
    {
     "data": {
      "text/plain": [
       "\"rfr = RandomForestRegressor(random_state=42)\\n\\n# Définition de la fonction de transformation logarithmique\\ntransformer = FunctionTransformer(np.log, inverse_func = np.exp, check_inverse = True)\\n\\n# Passage au log de la Target\\nrfr_regressor = TransformedTargetRegressor(regressor=rfr, transformer=transformer)\\n\\n# Dictionnaire des paramètres testés\\nrfr_param = {'regressor__n_estimators': [50, 100, 200, 400], 'regressor__max_features': ['sqrt', 'log2'], \\n             'regressor__max_depth': [5, 10, 15,20], 'regressor__criterion':['squared_error', 'absolute_error']}\\n\\n# Recherche des meilleurs paramètres\\ngrid_rfr = GridSearchCV(rfr_regressor, param_grid= rfr_param, cv = 5, scoring='r2', n_jobs= -1)\\ngrid_rfr.fit(X_train, y_train)\\n\\n# Meilleurs hyperparamètres\\nbest_param_rfr = grid_rfr.best_params_\\nbest_param_rfr\""
      ]
     },
     "execution_count": 22,
     "metadata": {},
     "output_type": "execute_result"
    }
   ],
   "source": [
    "\"\"\"rfr = RandomForestRegressor(random_state=42)\n",
    "\n",
    "# Définition de la fonction de transformation logarithmique\n",
    "transformer = FunctionTransformer(np.log, inverse_func = np.exp, check_inverse = True)\n",
    "\n",
    "# Passage au log de la Target\n",
    "rfr_regressor = TransformedTargetRegressor(regressor=rfr, transformer=transformer)\n",
    "\n",
    "# Dictionnaire des paramètres testés\n",
    "rfr_param = {'regressor__n_estimators': [50, 100, 200, 400], 'regressor__max_features': ['sqrt', 'log2'], \n",
    "             'regressor__max_depth': [5, 10, 15,20], 'regressor__criterion':['squared_error', 'absolute_error']}\n",
    "\n",
    "# Recherche des meilleurs paramètres\n",
    "grid_rfr = GridSearchCV(rfr_regressor, param_grid= rfr_param, cv = 5, scoring='r2', n_jobs= -1)\n",
    "grid_rfr.fit(X_train, y_train)\n",
    "\n",
    "# Meilleurs hyperparamètres\n",
    "best_param_rfr = grid_rfr.best_params_\n",
    "best_param_rfr\"\"\""
   ]
  },
  {
   "cell_type": "markdown",
   "id": "77655065",
   "metadata": {},
   "source": [
    "Output de la recherche: {'regressor__criterion': 'absolute_error','regressor__max_depth': 20,'regressor__max_features': 'sqrt','regressor__n_estimators': 100}"
   ]
  },
  {
   "cell_type": "code",
   "execution_count": 23,
   "id": "fb741aa4",
   "metadata": {},
   "outputs": [],
   "source": [
    "rfr_1 = RandomForestRegressor(criterion= 'absolute_error', max_depth=20, max_features= 'sqrt', n_estimators = 100, random_state=42)"
   ]
  },
  {
   "cell_type": "markdown",
   "id": "2fad06fa",
   "metadata": {},
   "source": [
    "**Le Gradient Boosting Regressor**"
   ]
  },
  {
   "cell_type": "code",
   "execution_count": 24,
   "id": "c99c4fd6",
   "metadata": {
    "collapsed": true
   },
   "outputs": [
    {
     "data": {
      "text/plain": [
       "\"gbr = GradientBoostingRegressor(random_state=42)\\n\\n# Définition la fonction de transformation logarithmique\\ntransformer = FunctionTransformer(np.log, inverse_func = np.exp, check_inverse = True)\\n\\n# Passage au log de la Target\\ngbr_regressor = TransformedTargetRegressor(regressor=gbr, transformer=transformer)\\n\\n# Dictionnaire des paramètres testés\\ngbr_param = {'regressor__n_estimators': [50, 100, 200, 400, 1000], 'regressor__max_features': ['sqrt', 'log2'], \\n             'regressor__max_depth': [5, 10, 15, 20, 25], 'regressor__criterion':['squared_error', 'absolute_error']}\\n\\n# Recherche des meilleurs paramètres\\ngrid_gbr = GridSearchCV(gbr_regressor, param_grid= gbr_param, cv = 5, scoring='r2', n_jobs= -1)\\ngrid_gbr.fit(X_train, y_train)\\n\\n# Meilleurs hyperparamètres\\nbest_param_gbr = grid_gbr.best_params_\\nbest_param_gbr\""
      ]
     },
     "execution_count": 24,
     "metadata": {},
     "output_type": "execute_result"
    }
   ],
   "source": [
    "'''gbr = GradientBoostingRegressor(random_state=42)\n",
    "\n",
    "# Définition la fonction de transformation logarithmique\n",
    "transformer = FunctionTransformer(np.log, inverse_func = np.exp, check_inverse = True)\n",
    "\n",
    "# Passage au log de la Target\n",
    "gbr_regressor = TransformedTargetRegressor(regressor=gbr, transformer=transformer)\n",
    "\n",
    "# Dictionnaire des paramètres testés\n",
    "gbr_param = {'regressor__n_estimators': [50, 100, 200, 400, 1000], 'regressor__max_features': ['sqrt', 'log2'], \n",
    "             'regressor__max_depth': [5, 10, 15, 20, 25], 'regressor__criterion':['squared_error', 'absolute_error']}\n",
    "\n",
    "# Recherche des meilleurs paramètres\n",
    "grid_gbr = GridSearchCV(gbr_regressor, param_grid= gbr_param, cv = 5, scoring='r2', n_jobs= -1)\n",
    "grid_gbr.fit(X_train, y_train)\n",
    "\n",
    "# Meilleurs hyperparamètres\n",
    "best_param_gbr = grid_gbr.best_params_\n",
    "best_param_gbr'''"
   ]
  },
  {
   "cell_type": "markdown",
   "id": "0c859790",
   "metadata": {},
   "source": [
    "Output de la recherche: {'regressor__criterion': 'absolute_error', 'regressor__max_depth': 5, 'regressor__max_features': 'sqrt', 'regressor__n_estimators': 100}"
   ]
  },
  {
   "cell_type": "code",
   "execution_count": 25,
   "id": "192efa8e",
   "metadata": {},
   "outputs": [],
   "source": [
    "gbr_1 = GradientBoostingRegressor(criterion='absolute_error', max_depth=5, max_features=\"sqrt\", n_estimators=100, random_state=42)"
   ]
  },
  {
   "cell_type": "markdown",
   "id": "4cd9bfdf",
   "metadata": {},
   "source": [
    "**Le XGBRegressor**"
   ]
  },
  {
   "cell_type": "code",
   "execution_count": 26,
   "id": "ac78dc43",
   "metadata": {
    "collapsed": true
   },
   "outputs": [
    {
     "data": {
      "text/plain": [
       "\"xgbr = XGBRegressor()\\n\\n# Définition de la fonction de transformation logarithmique\\ntransformer = FunctionTransformer(np.log, inverse_func = np.exp, check_inverse = True)\\n\\n# Passage au log de la Target\\nxgbr_regressor = TransformedTargetRegressor(regressor=xgbr, transformer=transformer)\\n\\n# Dictionnaire des paramètres testés\\nxgbr_param = {'regressor__n_estimators':[10,50,100,500,1000], 'regressor__max_depth': [2,4,8,16]}\\n\\n# Recherche des meilleurs paramètres\\ngrid_xgbr = GridSearchCV(xgbr_regressor, param_grid= xgbr_param, cv = 5, scoring='r2', n_jobs= -1)\\ngrid_xgbr.fit(X_train, y_train)\\n\\n# Meilleurs hyperparamètres\\nbest_param_xgbr = grid_xgbr.best_params_\\nbest_param_xgbr\""
      ]
     },
     "execution_count": 26,
     "metadata": {},
     "output_type": "execute_result"
    }
   ],
   "source": [
    "'''xgbr = XGBRegressor()\n",
    "\n",
    "# Définition de la fonction de transformation logarithmique\n",
    "transformer = FunctionTransformer(np.log, inverse_func = np.exp, check_inverse = True)\n",
    "\n",
    "# Passage au log de la Target\n",
    "xgbr_regressor = TransformedTargetRegressor(regressor=xgbr, transformer=transformer)\n",
    "\n",
    "# Dictionnaire des paramètres testés\n",
    "xgbr_param = {'regressor__n_estimators':[10,50,100,500,1000], 'regressor__max_depth': [2,4,8,16]}\n",
    "\n",
    "# Recherche des meilleurs paramètres\n",
    "grid_xgbr = GridSearchCV(xgbr_regressor, param_grid= xgbr_param, cv = 5, scoring='r2', n_jobs= -1)\n",
    "grid_xgbr.fit(X_train, y_train)\n",
    "\n",
    "# Meilleurs hyperparamètres\n",
    "best_param_xgbr = grid_xgbr.best_params_\n",
    "best_param_xgbr'''"
   ]
  },
  {
   "cell_type": "markdown",
   "id": "46544a8d",
   "metadata": {},
   "source": [
    "Output de la recherche = {'regressor__max_depth': 2, 'regressor__n_estimators': 50}"
   ]
  },
  {
   "cell_type": "code",
   "execution_count": 27,
   "id": "cd2e79f3",
   "metadata": {},
   "outputs": [],
   "source": [
    "xgbr_1 = XGBRegressor(max_depth=2, n_estimators=50, random_state=42)"
   ]
  },
  {
   "cell_type": "markdown",
   "id": "8a86a663",
   "metadata": {},
   "source": [
    "**2. LISTE DES MODELES OPTIMISES**"
   ]
  },
  {
   "cell_type": "code",
   "execution_count": 28,
   "id": "e7964d49",
   "metadata": {},
   "outputs": [],
   "source": [
    "optimized_models = [baseline_1, ridge_1, lasso_1, el_1, rfr_1 ,gbr_1, xgbr_1]"
   ]
  },
  {
   "cell_type": "markdown",
   "id": "27d139df",
   "metadata": {},
   "source": [
    "**3. CREATION D'UNE FONCTION POUR COMPARER L'ENSEMBLE DES MODELES EN UNE FOIS APRES GRIDSEARCHCV**"
   ]
  },
  {
   "cell_type": "code",
   "execution_count": 29,
   "id": "eaa61886",
   "metadata": {},
   "outputs": [],
   "source": [
    "def optimized_gas(models):\n",
    "    '''Comparaison des différents modèles pour la prédiction de l'intensité de l'émission des gaz à effet de serre'''\n",
    "    \n",
    "    print('Comparaison des différents modèles pour la prédiction \\n de l\\'intensité de l\\'émission des gaz à effet de serre après GridSearchCV') \n",
    " \n",
    "    cols = ['LinearRegression', 'Ridge', 'Lasso', 'ElasticNet', 'RFR', 'GBR', 'XGBR']\n",
    "    index = ['Grid Training Time', 'Grid Train R²','Grid Train RMSE', 'Grid Train MSE', 'Grid Train MAE', 'Grid Test R²','Grid Test RMSE', 'Grid Test MSE', 'Grid Test MAE']\n",
    "    \n",
    "    results_optimized = pd.DataFrame(index=index, columns=cols)\n",
    "    \n",
    "    \n",
    "    col = 0\n",
    "    \n",
    "    start_time = time.time()\n",
    "    for model in optimized_models:\n",
    "        model_fit = model.fit(X_train, y_train)\n",
    "        model_y_pred_train = model.predict(X_train)\n",
    "        model_y_pred_test = model.predict(X_test)\n",
    "\n",
    "        results_optimized.iloc[0,col] = time.time() - start_time\n",
    "        \n",
    "        results_optimized.iloc[1,col] = r2_score(y_train, model_y_pred_train)\n",
    "        results_optimized.iloc[2,col] = np.sqrt(mean_squared_error(y_train, model_y_pred_train))\n",
    "        results_optimized.iloc[3,col] = mean_squared_error(y_train, model_y_pred_train)\n",
    "        results_optimized.iloc[4,col] = mean_absolute_error(y_train, model_y_pred_train)\n",
    "        \n",
    "        results_optimized.iloc[5,col] = r2_score(y_test,model_y_pred_test)\n",
    "        results_optimized.iloc[6,col] = np.sqrt(mean_squared_error(y_test, model_y_pred_test))\n",
    "        results_optimized.iloc[7,col] = mean_squared_error(y_test, model_y_pred_test)\n",
    "        results_optimized.iloc[8,col] = mean_absolute_error(y_test, model_y_pred_test)\n",
    "       \n",
    "        col += 1\n",
    "\n",
    "    return results_optimized"
   ]
  },
  {
   "cell_type": "code",
   "execution_count": 30,
   "id": "cf6fdd16",
   "metadata": {},
   "outputs": [
    {
     "name": "stdout",
     "output_type": "stream",
     "text": [
      "Comparaison des différents modèles pour la prédiction \n",
      " de l'intensité de l'émission des gaz à effet de serre après GridSearchCV\n"
     ]
    },
    {
     "data": {
      "text/html": [
       "<div>\n",
       "<style scoped>\n",
       "    .dataframe tbody tr th:only-of-type {\n",
       "        vertical-align: middle;\n",
       "    }\n",
       "\n",
       "    .dataframe tbody tr th {\n",
       "        vertical-align: top;\n",
       "    }\n",
       "\n",
       "    .dataframe thead th {\n",
       "        text-align: right;\n",
       "    }\n",
       "</style>\n",
       "<table border=\"1\" class=\"dataframe\">\n",
       "  <thead>\n",
       "    <tr style=\"text-align: right;\">\n",
       "      <th></th>\n",
       "      <th>LinearRegression</th>\n",
       "      <th>Ridge</th>\n",
       "      <th>Lasso</th>\n",
       "      <th>ElasticNet</th>\n",
       "      <th>RFR</th>\n",
       "      <th>GBR</th>\n",
       "      <th>XGBR</th>\n",
       "    </tr>\n",
       "  </thead>\n",
       "  <tbody>\n",
       "    <tr>\n",
       "      <th>Grid Training Time</th>\n",
       "      <td>0.008048</td>\n",
       "      <td>0.02528</td>\n",
       "      <td>0.029827</td>\n",
       "      <td>0.096135</td>\n",
       "      <td>1.274874</td>\n",
       "      <td>5.232662</td>\n",
       "      <td>5.342513</td>\n",
       "    </tr>\n",
       "    <tr>\n",
       "      <th>Grid Train R²</th>\n",
       "      <td>0.637779</td>\n",
       "      <td>0.633705</td>\n",
       "      <td>0.486115</td>\n",
       "      <td>0.636281</td>\n",
       "      <td>0.939131</td>\n",
       "      <td>0.902864</td>\n",
       "      <td>0.813935</td>\n",
       "    </tr>\n",
       "    <tr>\n",
       "      <th>Grid Train RMSE</th>\n",
       "      <td>1.024497</td>\n",
       "      <td>1.030242</td>\n",
       "      <td>1.220273</td>\n",
       "      <td>1.026614</td>\n",
       "      <td>0.419974</td>\n",
       "      <td>0.530536</td>\n",
       "      <td>0.73427</td>\n",
       "    </tr>\n",
       "    <tr>\n",
       "      <th>Grid Train MSE</th>\n",
       "      <td>1.049593</td>\n",
       "      <td>1.061399</td>\n",
       "      <td>1.489066</td>\n",
       "      <td>1.053936</td>\n",
       "      <td>0.176378</td>\n",
       "      <td>0.281469</td>\n",
       "      <td>0.539152</td>\n",
       "    </tr>\n",
       "    <tr>\n",
       "      <th>Grid Train MAE</th>\n",
       "      <td>0.601932</td>\n",
       "      <td>0.593388</td>\n",
       "      <td>0.729805</td>\n",
       "      <td>0.598232</td>\n",
       "      <td>0.22999</td>\n",
       "      <td>0.262768</td>\n",
       "      <td>0.435181</td>\n",
       "    </tr>\n",
       "    <tr>\n",
       "      <th>Grid Test R²</th>\n",
       "      <td>0.540722</td>\n",
       "      <td>0.57977</td>\n",
       "      <td>0.494271</td>\n",
       "      <td>0.546846</td>\n",
       "      <td>0.74221</td>\n",
       "      <td>0.732488</td>\n",
       "      <td>0.713737</td>\n",
       "    </tr>\n",
       "    <tr>\n",
       "      <th>Grid Test RMSE</th>\n",
       "      <td>0.849015</td>\n",
       "      <td>0.812122</td>\n",
       "      <td>0.890915</td>\n",
       "      <td>0.843335</td>\n",
       "      <td>0.636078</td>\n",
       "      <td>0.647961</td>\n",
       "      <td>0.670287</td>\n",
       "    </tr>\n",
       "    <tr>\n",
       "      <th>Grid Test MSE</th>\n",
       "      <td>0.720827</td>\n",
       "      <td>0.659542</td>\n",
       "      <td>0.79373</td>\n",
       "      <td>0.711215</td>\n",
       "      <td>0.404595</td>\n",
       "      <td>0.419854</td>\n",
       "      <td>0.449284</td>\n",
       "    </tr>\n",
       "    <tr>\n",
       "      <th>Grid Test MAE</th>\n",
       "      <td>0.550068</td>\n",
       "      <td>0.53361</td>\n",
       "      <td>0.630064</td>\n",
       "      <td>0.545772</td>\n",
       "      <td>0.42279</td>\n",
       "      <td>0.403539</td>\n",
       "      <td>0.444862</td>\n",
       "    </tr>\n",
       "  </tbody>\n",
       "</table>\n",
       "</div>"
      ],
      "text/plain": [
       "                   LinearRegression     Ridge     Lasso ElasticNet       RFR  \\\n",
       "Grid Training Time         0.008048   0.02528  0.029827   0.096135  1.274874   \n",
       "Grid Train R²              0.637779  0.633705  0.486115   0.636281  0.939131   \n",
       "Grid Train RMSE            1.024497  1.030242  1.220273   1.026614  0.419974   \n",
       "Grid Train MSE             1.049593  1.061399  1.489066   1.053936  0.176378   \n",
       "Grid Train MAE             0.601932  0.593388  0.729805   0.598232   0.22999   \n",
       "Grid Test R²               0.540722   0.57977  0.494271   0.546846   0.74221   \n",
       "Grid Test RMSE             0.849015  0.812122  0.890915   0.843335  0.636078   \n",
       "Grid Test MSE              0.720827  0.659542   0.79373   0.711215  0.404595   \n",
       "Grid Test MAE              0.550068   0.53361  0.630064   0.545772   0.42279   \n",
       "\n",
       "                         GBR      XGBR  \n",
       "Grid Training Time  5.232662  5.342513  \n",
       "Grid Train R²       0.902864  0.813935  \n",
       "Grid Train RMSE     0.530536   0.73427  \n",
       "Grid Train MSE      0.281469  0.539152  \n",
       "Grid Train MAE      0.262768  0.435181  \n",
       "Grid Test R²        0.732488  0.713737  \n",
       "Grid Test RMSE      0.647961  0.670287  \n",
       "Grid Test MSE       0.419854  0.449284  \n",
       "Grid Test MAE       0.403539  0.444862  "
      ]
     },
     "execution_count": 30,
     "metadata": {},
     "output_type": "execute_result"
    }
   ],
   "source": [
    "results_optimized = optimized_gas(models=optimized_models)\n",
    "results_optimized"
   ]
  },
  {
   "cell_type": "markdown",
   "id": "18792914",
   "metadata": {},
   "source": [
    "**4. CONCATENATION DES DATAFRAMES AVANT ET APRES OPTIMISATION**"
   ]
  },
  {
   "cell_type": "code",
   "execution_count": 31,
   "id": "d121d7d5",
   "metadata": {
    "scrolled": true
   },
   "outputs": [
    {
     "name": "stdout",
     "output_type": "stream",
     "text": [
      "Comparaison des différents modèles pour la prédiction de l'intensité \n",
      " de l'émission des gaz à effet de serre\n"
     ]
    },
    {
     "data": {
      "text/html": [
       "<div>\n",
       "<style scoped>\n",
       "    .dataframe tbody tr th:only-of-type {\n",
       "        vertical-align: middle;\n",
       "    }\n",
       "\n",
       "    .dataframe tbody tr th {\n",
       "        vertical-align: top;\n",
       "    }\n",
       "\n",
       "    .dataframe thead th {\n",
       "        text-align: right;\n",
       "    }\n",
       "</style>\n",
       "<table border=\"1\" class=\"dataframe\">\n",
       "  <thead>\n",
       "    <tr style=\"text-align: right;\">\n",
       "      <th></th>\n",
       "      <th>LinearRegression</th>\n",
       "      <th>Ridge</th>\n",
       "      <th>Lasso</th>\n",
       "      <th>ElasticNet</th>\n",
       "      <th>RFR</th>\n",
       "      <th>GBR</th>\n",
       "      <th>XGBR</th>\n",
       "    </tr>\n",
       "  </thead>\n",
       "  <tbody>\n",
       "    <tr>\n",
       "      <th>Training Time</th>\n",
       "      <td>0.01301</td>\n",
       "      <td>0.016727</td>\n",
       "      <td>0.028735</td>\n",
       "      <td>0.033494</td>\n",
       "      <td>0.457</td>\n",
       "      <td>0.582772</td>\n",
       "      <td>1.205339</td>\n",
       "    </tr>\n",
       "    <tr>\n",
       "      <th>Grid Training Time</th>\n",
       "      <td>0.008048</td>\n",
       "      <td>0.02528</td>\n",
       "      <td>0.029827</td>\n",
       "      <td>0.096135</td>\n",
       "      <td>1.274874</td>\n",
       "      <td>5.232662</td>\n",
       "      <td>5.342513</td>\n",
       "    </tr>\n",
       "    <tr>\n",
       "      <th>Train R²</th>\n",
       "      <td>0.624847</td>\n",
       "      <td>0.625227</td>\n",
       "      <td>0.534675</td>\n",
       "      <td>0.576581</td>\n",
       "      <td>0.911985</td>\n",
       "      <td>0.82556</td>\n",
       "      <td>0.996601</td>\n",
       "    </tr>\n",
       "    <tr>\n",
       "      <th>Grid Train R²</th>\n",
       "      <td>0.637779</td>\n",
       "      <td>0.633705</td>\n",
       "      <td>0.486115</td>\n",
       "      <td>0.636281</td>\n",
       "      <td>0.939131</td>\n",
       "      <td>0.902864</td>\n",
       "      <td>0.813935</td>\n",
       "    </tr>\n",
       "    <tr>\n",
       "      <th>Train RMSE</th>\n",
       "      <td>1.042625</td>\n",
       "      <td>1.042096</td>\n",
       "      <td>1.161187</td>\n",
       "      <td>1.107666</td>\n",
       "      <td>0.505013</td>\n",
       "      <td>0.710963</td>\n",
       "      <td>0.099248</td>\n",
       "    </tr>\n",
       "    <tr>\n",
       "      <th>Grid Train RMSE</th>\n",
       "      <td>1.024497</td>\n",
       "      <td>1.030242</td>\n",
       "      <td>1.220273</td>\n",
       "      <td>1.026614</td>\n",
       "      <td>0.419974</td>\n",
       "      <td>0.530536</td>\n",
       "      <td>0.73427</td>\n",
       "    </tr>\n",
       "    <tr>\n",
       "      <th>Train MSE</th>\n",
       "      <td>1.087068</td>\n",
       "      <td>1.085965</td>\n",
       "      <td>1.348356</td>\n",
       "      <td>1.226925</td>\n",
       "      <td>0.255038</td>\n",
       "      <td>0.505468</td>\n",
       "      <td>0.00985</td>\n",
       "    </tr>\n",
       "    <tr>\n",
       "      <th>Grid Train MSE</th>\n",
       "      <td>1.049593</td>\n",
       "      <td>1.061399</td>\n",
       "      <td>1.489066</td>\n",
       "      <td>1.053936</td>\n",
       "      <td>0.176378</td>\n",
       "      <td>0.281469</td>\n",
       "      <td>0.539152</td>\n",
       "    </tr>\n",
       "    <tr>\n",
       "      <th>Train MAE</th>\n",
       "      <td>0.540101</td>\n",
       "      <td>0.539771</td>\n",
       "      <td>0.599104</td>\n",
       "      <td>0.57187</td>\n",
       "      <td>0.21878</td>\n",
       "      <td>0.368146</td>\n",
       "      <td>0.047067</td>\n",
       "    </tr>\n",
       "    <tr>\n",
       "      <th>Grid Train MAE</th>\n",
       "      <td>0.601932</td>\n",
       "      <td>0.593388</td>\n",
       "      <td>0.729805</td>\n",
       "      <td>0.598232</td>\n",
       "      <td>0.22999</td>\n",
       "      <td>0.262768</td>\n",
       "      <td>0.435181</td>\n",
       "    </tr>\n",
       "    <tr>\n",
       "      <th>Test R²</th>\n",
       "      <td>0.477957</td>\n",
       "      <td>0.489518</td>\n",
       "      <td>0.455774</td>\n",
       "      <td>0.521177</td>\n",
       "      <td>0.741191</td>\n",
       "      <td>0.760482</td>\n",
       "      <td>0.714724</td>\n",
       "    </tr>\n",
       "    <tr>\n",
       "      <th>Grid Test R²</th>\n",
       "      <td>0.540722</td>\n",
       "      <td>0.57977</td>\n",
       "      <td>0.494271</td>\n",
       "      <td>0.546846</td>\n",
       "      <td>0.74221</td>\n",
       "      <td>0.732488</td>\n",
       "      <td>0.713737</td>\n",
       "    </tr>\n",
       "    <tr>\n",
       "      <th>Test MSE</th>\n",
       "      <td>0.819336</td>\n",
       "      <td>0.80119</td>\n",
       "      <td>0.85415</td>\n",
       "      <td>0.751503</td>\n",
       "      <td>0.406195</td>\n",
       "      <td>0.375918</td>\n",
       "      <td>0.447735</td>\n",
       "    </tr>\n",
       "    <tr>\n",
       "      <th>Grid Test MSE</th>\n",
       "      <td>0.720827</td>\n",
       "      <td>0.659542</td>\n",
       "      <td>0.79373</td>\n",
       "      <td>0.711215</td>\n",
       "      <td>0.404595</td>\n",
       "      <td>0.419854</td>\n",
       "      <td>0.449284</td>\n",
       "    </tr>\n",
       "    <tr>\n",
       "      <th>Test MAE</th>\n",
       "      <td>0.448059</td>\n",
       "      <td>0.446534</td>\n",
       "      <td>0.480689</td>\n",
       "      <td>0.455982</td>\n",
       "      <td>0.377495</td>\n",
       "      <td>0.371699</td>\n",
       "      <td>0.405424</td>\n",
       "    </tr>\n",
       "    <tr>\n",
       "      <th>Grid Test MAE</th>\n",
       "      <td>0.550068</td>\n",
       "      <td>0.53361</td>\n",
       "      <td>0.630064</td>\n",
       "      <td>0.545772</td>\n",
       "      <td>0.42279</td>\n",
       "      <td>0.403539</td>\n",
       "      <td>0.444862</td>\n",
       "    </tr>\n",
       "  </tbody>\n",
       "</table>\n",
       "</div>"
      ],
      "text/plain": [
       "                   LinearRegression     Ridge     Lasso ElasticNet       RFR  \\\n",
       "Training Time               0.01301  0.016727  0.028735   0.033494     0.457   \n",
       "Grid Training Time         0.008048   0.02528  0.029827   0.096135  1.274874   \n",
       "Train R²                   0.624847  0.625227  0.534675   0.576581  0.911985   \n",
       "Grid Train R²              0.637779  0.633705  0.486115   0.636281  0.939131   \n",
       "Train RMSE                 1.042625  1.042096  1.161187   1.107666  0.505013   \n",
       "Grid Train RMSE            1.024497  1.030242  1.220273   1.026614  0.419974   \n",
       "Train MSE                  1.087068  1.085965  1.348356   1.226925  0.255038   \n",
       "Grid Train MSE             1.049593  1.061399  1.489066   1.053936  0.176378   \n",
       "Train MAE                  0.540101  0.539771  0.599104    0.57187   0.21878   \n",
       "Grid Train MAE             0.601932  0.593388  0.729805   0.598232   0.22999   \n",
       "Test R²                    0.477957  0.489518  0.455774   0.521177  0.741191   \n",
       "Grid Test R²               0.540722   0.57977  0.494271   0.546846   0.74221   \n",
       "Test MSE                   0.819336   0.80119   0.85415   0.751503  0.406195   \n",
       "Grid Test MSE              0.720827  0.659542   0.79373   0.711215  0.404595   \n",
       "Test MAE                   0.448059  0.446534  0.480689   0.455982  0.377495   \n",
       "Grid Test MAE              0.550068   0.53361  0.630064   0.545772   0.42279   \n",
       "\n",
       "                         GBR      XGBR  \n",
       "Training Time       0.582772  1.205339  \n",
       "Grid Training Time  5.232662  5.342513  \n",
       "Train R²             0.82556  0.996601  \n",
       "Grid Train R²       0.902864  0.813935  \n",
       "Train RMSE          0.710963  0.099248  \n",
       "Grid Train RMSE     0.530536   0.73427  \n",
       "Train MSE           0.505468   0.00985  \n",
       "Grid Train MSE      0.281469  0.539152  \n",
       "Train MAE           0.368146  0.047067  \n",
       "Grid Train MAE      0.262768  0.435181  \n",
       "Test R²             0.760482  0.714724  \n",
       "Grid Test R²        0.732488  0.713737  \n",
       "Test MSE            0.375918  0.447735  \n",
       "Grid Test MSE       0.419854  0.449284  \n",
       "Test MAE            0.371699  0.405424  \n",
       "Grid Test MAE       0.403539  0.444862  "
      ]
     },
     "execution_count": 31,
     "metadata": {},
     "output_type": "execute_result"
    }
   ],
   "source": [
    "# Concaténation des 2 dataframes\n",
    "gas = pd.concat([results_standard ,results_optimized ], axis=0)\n",
    "\n",
    "# Réarrangement du dataframe pour une meilleure clarté\n",
    "print('Comparaison des différents modèles pour la prédiction de l\\'intensité \\n de l\\'émission des gaz à effet de serre')\n",
    "gas = gas.reindex(['Training Time' ,'Grid Training Time', 'Train R²','Grid Train R²', 'Train RMSE','Grid Train RMSE', 'Train MSE','Grid Train MSE', 'Train MAE','Grid Train MAE', 'Test R²','Grid Test R²', 'Test MSE','Grid Test MSE', 'Test MAE','Grid Test MAE'])\n",
    "gas"
   ]
  },
  {
   "cell_type": "markdown",
   "id": "82821122",
   "metadata": {},
   "source": [
    "**CONCLUSION SUR LES RESULTATS: Parmi tous les modèles testés, les 3 méthodes ensemblistes sont clairement les plus performantes.**\n",
    "\n",
    "**CHOIX DU MODELE: Pour la prédiction de la consommation de l'intensité de l'émission de gaz à effet de serre, les modèles RandomForestRegressor et le GradientBoostingRegressor semblent davantage prometteurs. De ce fait, une nouvelle recherche de paramètres sera effectuée sur ces 2 modèles.**"
   ]
  },
  {
   "cell_type": "markdown",
   "id": "0b4c4347",
   "metadata": {},
   "source": [
    "## 2.3. Nouvelle recherche de paramètres pour les 2 méthodes ensemblistes"
   ]
  },
  {
   "cell_type": "markdown",
   "id": "e11a215d",
   "metadata": {},
   "source": [
    "### 1. Le Random Forest Regressor"
   ]
  },
  {
   "cell_type": "code",
   "execution_count": 32,
   "id": "5d1bc41d",
   "metadata": {},
   "outputs": [
    {
     "data": {
      "text/plain": [
       "\"rfr_2 = RandomForestRegressor(random_state=42)\\n\\n# Définition de la fonction de transformation logarithmique\\ntransformer = FunctionTransformer(np.log, inverse_func = np.exp, check_inverse = True)\\n\\n# Passage au log de la Target\\nrfr_2_regressor = TransformedTargetRegressor(regressor=rfr_2, transformer=transformer)\\n\\n# Dictionnaire des paramètres testés\\nrfr_2_param = {'regressor__n_estimators': [50, 100, 200, 400], 'regressor__max_features': ['sqrt', 'log2'], \\n             'regressor__max_depth': [15, 20, 25], 'regressor__criterion':['squared_error', 'absolute_error']}\\n\\n# Recherche des meilleurs paramètres\\ngrid_rfr_2 = GridSearchCV(rfr_2_regressor, param_grid= rfr_2_param, cv = 5, scoring='r2', n_jobs= -1)\\ngrid_rfr_2.fit(X_train, y_train)\\n\\n# Meilleurs hyperparamètres\\nbest_param_rfr_2 = grid_rfr_2.best_params_\\nbest_param_rfr_2\""
      ]
     },
     "execution_count": 32,
     "metadata": {},
     "output_type": "execute_result"
    }
   ],
   "source": [
    "'''rfr_2 = RandomForestRegressor(random_state=42)\n",
    "\n",
    "# Définition de la fonction de transformation logarithmique\n",
    "transformer = FunctionTransformer(np.log, inverse_func = np.exp, check_inverse = True)\n",
    "\n",
    "# Passage au log de la Target\n",
    "rfr_2_regressor = TransformedTargetRegressor(regressor=rfr_2, transformer=transformer)\n",
    "\n",
    "# Dictionnaire des paramètres testés\n",
    "rfr_2_param = {'regressor__n_estimators': [50, 100, 200, 400], 'regressor__max_features': ['sqrt', 'log2'], \n",
    "             'regressor__max_depth': [15, 20, 25], 'regressor__criterion':['squared_error', 'absolute_error']}\n",
    "\n",
    "# Recherche des meilleurs paramètres\n",
    "grid_rfr_2 = GridSearchCV(rfr_2_regressor, param_grid= rfr_2_param, cv = 5, scoring='r2', n_jobs= -1)\n",
    "grid_rfr_2.fit(X_train, y_train)\n",
    "\n",
    "# Meilleurs hyperparamètres\n",
    "best_param_rfr_2 = grid_rfr_2.best_params_\n",
    "best_param_rfr_2'''"
   ]
  },
  {
   "cell_type": "markdown",
   "id": "135e1fa1",
   "metadata": {},
   "source": [
    "output ='regressor__criterion': 'absolute_error','regressor__max_depth': 25,'regressor__max_features': 'sqrt','regressor__n_estimators': 100}"
   ]
  },
  {
   "cell_type": "code",
   "execution_count": 33,
   "id": "e6e84a19",
   "metadata": {},
   "outputs": [],
   "source": [
    "rfr_2 = RandomForestRegressor(criterion= 'absolute_error', max_depth=25, max_features= 'sqrt', n_estimators = 100, random_state=42)"
   ]
  },
  {
   "cell_type": "markdown",
   "id": "31f67ff4",
   "metadata": {},
   "source": [
    "### 2. Le Gradient Boosting Regressor"
   ]
  },
  {
   "cell_type": "code",
   "execution_count": 34,
   "id": "22f47a8e",
   "metadata": {},
   "outputs": [
    {
     "data": {
      "text/plain": [
       "\"gbr_2 = GradientBoostingRegressor(random_state=42)\\n\\n# Définir la fonction de transformation logarithmique\\ntransformer = FunctionTransformer(np.log, inverse_func = np.exp, check_inverse = True)\\n\\n# Passage au log de la Target\\ngbr_2_regressor = TransformedTargetRegressor(regressor=gbr_2, transformer=transformer)\\n\\n# Dictionnaire des paramètres testés\\ngbr_2_param = {'regressor__n_estimators': [25, 50, 100, 200, 400], 'regressor__max_features': ['sqrt', 'log2'], \\n             'regressor__max_depth': [2, 4, 8, 16], 'regressor__criterion':['squared_error', 'absolute_error']}\\n\\n# Recherche des meilleurs paramètres\\ngrid_gbr_2 = GridSearchCV(gbr_2_regressor, param_grid= gbr_2_param, cv = 5, scoring='r2', n_jobs= -1)\\ngrid_gbr_2.fit(X_train, y_train)\\n\\n# Meilleurs hyperparamètres\\nbest_param_gbr_2 = grid_gbr_2.best_params_\\nbest_param_gbr_2\""
      ]
     },
     "execution_count": 34,
     "metadata": {},
     "output_type": "execute_result"
    }
   ],
   "source": [
    "'''gbr_2 = GradientBoostingRegressor(random_state=42)\n",
    "\n",
    "# Définir la fonction de transformation logarithmique\n",
    "transformer = FunctionTransformer(np.log, inverse_func = np.exp, check_inverse = True)\n",
    "\n",
    "# Passage au log de la Target\n",
    "gbr_2_regressor = TransformedTargetRegressor(regressor=gbr_2, transformer=transformer)\n",
    "\n",
    "# Dictionnaire des paramètres testés\n",
    "gbr_2_param = {'regressor__n_estimators': [25, 50, 100, 200, 400], 'regressor__max_features': ['sqrt', 'log2'], \n",
    "             'regressor__max_depth': [2, 4, 8, 16], 'regressor__criterion':['squared_error', 'absolute_error']}\n",
    "\n",
    "# Recherche des meilleurs paramètres\n",
    "grid_gbr_2 = GridSearchCV(gbr_2_regressor, param_grid= gbr_2_param, cv = 5, scoring='r2', n_jobs= -1)\n",
    "grid_gbr_2.fit(X_train, y_train)\n",
    "\n",
    "# Meilleurs hyperparamètres\n",
    "best_param_gbr_2 = grid_gbr_2.best_params_\n",
    "best_param_gbr_2'''"
   ]
  },
  {
   "cell_type": "markdown",
   "id": "32e0ec1a",
   "metadata": {},
   "source": [
    "output = {'regressor__criterion': 'squared_error','regressor__max_depth': 2, 'regressor__max_features': 'sqrt','regressor__n_estimators': 400}"
   ]
  },
  {
   "cell_type": "code",
   "execution_count": 35,
   "id": "96ce9a2c",
   "metadata": {},
   "outputs": [],
   "source": [
    "gbr_2 = GradientBoostingRegressor(criterion='squared_error', max_depth=2, max_features=\"sqrt\", n_estimators=400, random_state=42)"
   ]
  },
  {
   "cell_type": "code",
   "execution_count": 36,
   "id": "674b5d64",
   "metadata": {},
   "outputs": [],
   "source": [
    "choix = [rfr_1, rfr_2, gbr_1, gbr_2]"
   ]
  },
  {
   "cell_type": "markdown",
   "id": "9e618596",
   "metadata": {},
   "source": [
    "### 3. Fonction permettant la comparaison des 2 modèles avec la nouvelle recherche de paramètres"
   ]
  },
  {
   "cell_type": "code",
   "execution_count": 37,
   "id": "67f23dd8",
   "metadata": {},
   "outputs": [],
   "source": [
    "def choice_gas(models):\n",
    "    '''Comparaison des différents modèles pour la prédiction de l'intensité de l'émission des gaz à effet de serre'''\n",
    "    \n",
    "    print('Choix du modèle pour la prédiction \\n de l\\'intensité de l\\'émission des gaz à effet de serre après GridSearchCV') \n",
    " \n",
    "    cols = ['RFR 1', 'RFR 2', 'GBR 1', 'GBR 2']\n",
    "    index = ['Grid Training Time', 'Grid Train R²','Grid Train RMSE', 'Grid Train MSE', 'Grid Train MAE', 'Grid Test R²','Grid Test RMSE', 'Grid Test MSE', 'Grid Test MAE']\n",
    "    \n",
    "    results_choice = pd.DataFrame(index=index, columns=cols)\n",
    "    \n",
    "    \n",
    "    col = 0\n",
    "    \n",
    "    start_time = time.time()\n",
    "    for model in choix:\n",
    "        model_fit = model.fit(X_train, y_train)\n",
    "        model_y_pred_train = model.predict(X_train)\n",
    "        model_y_pred_test = model.predict(X_test)\n",
    "        \n",
    "        results_choice.iloc[0,col] = time.time() - start_time\n",
    "        \n",
    "        results_choice.iloc[1,col] = r2_score(y_train, model_y_pred_train)\n",
    "        results_choice.iloc[2,col] = np.sqrt(mean_squared_error(y_train, model_y_pred_train))\n",
    "        results_choice.iloc[3,col] = mean_squared_error(y_train, model_y_pred_train)\n",
    "        results_choice.iloc[4,col] = mean_absolute_error(y_train, model_y_pred_train)\n",
    "        \n",
    "        results_choice.iloc[5,col] = r2_score(y_test,model_y_pred_test)\n",
    "        results_choice.iloc[6,col] = np.sqrt(mean_squared_error(y_test, model_y_pred_test))\n",
    "        results_choice.iloc[7,col] = mean_squared_error(y_test, model_y_pred_test)\n",
    "        results_choice.iloc[8,col] = mean_absolute_error(y_test, model_y_pred_test)\n",
    "       \n",
    "        col += 1\n",
    "\n",
    "    return results_choice"
   ]
  },
  {
   "cell_type": "code",
   "execution_count": 38,
   "id": "44a1a596",
   "metadata": {},
   "outputs": [
    {
     "name": "stdout",
     "output_type": "stream",
     "text": [
      "Choix du modèle pour la prédiction \n",
      " de l'intensité de l'émission des gaz à effet de serre après GridSearchCV\n"
     ]
    },
    {
     "data": {
      "text/html": [
       "<div>\n",
       "<style scoped>\n",
       "    .dataframe tbody tr th:only-of-type {\n",
       "        vertical-align: middle;\n",
       "    }\n",
       "\n",
       "    .dataframe tbody tr th {\n",
       "        vertical-align: top;\n",
       "    }\n",
       "\n",
       "    .dataframe thead th {\n",
       "        text-align: right;\n",
       "    }\n",
       "</style>\n",
       "<table border=\"1\" class=\"dataframe\">\n",
       "  <thead>\n",
       "    <tr style=\"text-align: right;\">\n",
       "      <th></th>\n",
       "      <th>RFR 1</th>\n",
       "      <th>RFR 2</th>\n",
       "      <th>GBR 1</th>\n",
       "      <th>GBR 2</th>\n",
       "    </tr>\n",
       "  </thead>\n",
       "  <tbody>\n",
       "    <tr>\n",
       "      <th>Grid Training Time</th>\n",
       "      <td>3.246331</td>\n",
       "      <td>6.456486</td>\n",
       "      <td>10.141948</td>\n",
       "      <td>10.415677</td>\n",
       "    </tr>\n",
       "    <tr>\n",
       "      <th>Grid Train R²</th>\n",
       "      <td>0.939131</td>\n",
       "      <td>0.942969</td>\n",
       "      <td>0.902864</td>\n",
       "      <td>0.883486</td>\n",
       "    </tr>\n",
       "    <tr>\n",
       "      <th>Grid Train RMSE</th>\n",
       "      <td>0.419974</td>\n",
       "      <td>0.406518</td>\n",
       "      <td>0.530536</td>\n",
       "      <td>0.58105</td>\n",
       "    </tr>\n",
       "    <tr>\n",
       "      <th>Grid Train MSE</th>\n",
       "      <td>0.176378</td>\n",
       "      <td>0.165257</td>\n",
       "      <td>0.281469</td>\n",
       "      <td>0.337619</td>\n",
       "    </tr>\n",
       "    <tr>\n",
       "      <th>Grid Train MAE</th>\n",
       "      <td>0.22999</td>\n",
       "      <td>0.21641</td>\n",
       "      <td>0.262768</td>\n",
       "      <td>0.365437</td>\n",
       "    </tr>\n",
       "    <tr>\n",
       "      <th>Grid Test R²</th>\n",
       "      <td>0.74221</td>\n",
       "      <td>0.737025</td>\n",
       "      <td>0.732488</td>\n",
       "      <td>0.713738</td>\n",
       "    </tr>\n",
       "    <tr>\n",
       "      <th>Grid Test RMSE</th>\n",
       "      <td>0.636078</td>\n",
       "      <td>0.642444</td>\n",
       "      <td>0.647961</td>\n",
       "      <td>0.670284</td>\n",
       "    </tr>\n",
       "    <tr>\n",
       "      <th>Grid Test MSE</th>\n",
       "      <td>0.404595</td>\n",
       "      <td>0.412734</td>\n",
       "      <td>0.419854</td>\n",
       "      <td>0.449281</td>\n",
       "    </tr>\n",
       "    <tr>\n",
       "      <th>Grid Test MAE</th>\n",
       "      <td>0.42279</td>\n",
       "      <td>0.422229</td>\n",
       "      <td>0.403539</td>\n",
       "      <td>0.463936</td>\n",
       "    </tr>\n",
       "  </tbody>\n",
       "</table>\n",
       "</div>"
      ],
      "text/plain": [
       "                       RFR 1     RFR 2      GBR 1      GBR 2\n",
       "Grid Training Time  3.246331  6.456486  10.141948  10.415677\n",
       "Grid Train R²       0.939131  0.942969   0.902864   0.883486\n",
       "Grid Train RMSE     0.419974  0.406518   0.530536    0.58105\n",
       "Grid Train MSE      0.176378  0.165257   0.281469   0.337619\n",
       "Grid Train MAE       0.22999   0.21641   0.262768   0.365437\n",
       "Grid Test R²         0.74221  0.737025   0.732488   0.713738\n",
       "Grid Test RMSE      0.636078  0.642444   0.647961   0.670284\n",
       "Grid Test MSE       0.404595  0.412734   0.419854   0.449281\n",
       "Grid Test MAE        0.42279  0.422229   0.403539   0.463936"
      ]
     },
     "execution_count": 38,
     "metadata": {},
     "output_type": "execute_result"
    }
   ],
   "source": [
    "results_choice = choice_gas(models=choix)\n",
    "results_choice"
   ]
  },
  {
   "cell_type": "markdown",
   "id": "94448c82",
   "metadata": {},
   "source": [
    "**MODELE RETENU: Le Random Forest Regressor avec la 1ère recherche d'hyperparamètres, présentant de meilleures métriques sur le jeu test. De plus, de dernier est le plus rapide à entraîner.**"
   ]
  },
  {
   "cell_type": "markdown",
   "id": "f482b747",
   "metadata": {},
   "source": [
    "## 3. Le Random Forest Regressor"
   ]
  },
  {
   "cell_type": "markdown",
   "id": "f6585432",
   "metadata": {},
   "source": [
    "### 3.1. L'apprentissage du modèle"
   ]
  },
  {
   "cell_type": "code",
   "execution_count": 39,
   "id": "fba57fee",
   "metadata": {},
   "outputs": [
    {
     "data": {
      "text/plain": [
       "count    967.000000\n",
       "mean       1.334654\n",
       "std        1.626537\n",
       "min        0.010000\n",
       "25%        0.330000\n",
       "50%        0.730000\n",
       "75%        1.680000\n",
       "max       13.880000\n",
       "Name: GHGEmissionsIntensity, dtype: float64"
      ]
     },
     "execution_count": 39,
     "metadata": {},
     "output_type": "execute_result"
    }
   ],
   "source": [
    "# Description de la variable 'GHGEmissionsIntensity'\n",
    "df[\"GHGEmissionsIntensity\"].describe()"
   ]
  },
  {
   "cell_type": "code",
   "execution_count": 40,
   "id": "37a087a2",
   "metadata": {},
   "outputs": [],
   "source": [
    "# Entrainement du modèle\n",
    "rfr_1.fit(X_train,y_train)\n",
    "\n",
    "# Prédiction sur les données d'entrainement\n",
    "y_rfr_train = rfr_1.predict(X_train)\n",
    "\n",
    "# Prédiction sur les données test\n",
    "y_rfr_test = rfr_1.predict(X_test)\n",
    "\n",
    "# Scores sur les 2 jeux\n",
    "rfr_score_train = rfr_1.score(X_train, y_train)\n",
    "rfr_score_test = rfr_1.score(X_test, y_test)"
   ]
  },
  {
   "cell_type": "code",
   "execution_count": 41,
   "id": "feb57903",
   "metadata": {},
   "outputs": [
    {
     "name": "stdout",
     "output_type": "stream",
     "text": [
      "Train score: 0.939130803231092\n",
      "Test score:  0.7422103406407878\n"
     ]
    }
   ],
   "source": [
    "print(f'Train score: {rfr_score_train}')\n",
    "print(f'Test score:  {rfr_score_test}')"
   ]
  },
  {
   "cell_type": "markdown",
   "id": "3d5273e6",
   "metadata": {},
   "source": [
    "**1. COMPARAISON DES VALEURS PREDITES ET DES VALEURS REELLES**"
   ]
  },
  {
   "cell_type": "code",
   "execution_count": 42,
   "id": "796829c7",
   "metadata": {},
   "outputs": [
    {
     "data": {
      "image/png": "[encoded data removed]",
      "text/plain": [
       "<Figure size 2200x1000 with 2 Axes>"
      ]
     },
     "metadata": {},
     "output_type": "display_data"
    }
   ],
   "source": [
    "fig, axes = plt.subplots(nrows=1, ncols=2, figsize = (22,10))\n",
    "with sns.color_palette(palette=\"pastel\"):\n",
    "    plt.rcParams.update({\"font.size\":12})\n",
    "    sns.scatterplot(ax=axes[0], x=y_train, y= y_rfr_train)\n",
    "    sns.lineplot(ax=axes[0], x=np.linspace(0, 15, 50), y=np.linspace(0, 15, 50), color='r')\n",
    "    axes[0].set_xlabel(\"Valeurs vraies\", fontname = 'sans-serif', fontsize = 14, fontweight = \"bold\")\n",
    "    axes[0].set_ylabel(\"Valeurs prédites\", fontname = 'sans-serif', fontsize = 14, fontweight = \"bold\")\n",
    "    axes[0].set_title(\"JEU D'ENTRAINEMENT\", fontname = 'sans-serif', fontsize = 14, fontweight = \"bold\")\n",
    "    sns.scatterplot(ax=axes[1], x=y_test, y= y_rfr_test)\n",
    "    sns.lineplot(ax=axes[1], x=np.linspace(0, 17, 50), y=np.linspace(0, 17, 50), color='r')\n",
    "    axes[1].set_xlabel(\"Valeurs vraies\", fontname = 'sans-serif', fontsize = 14, fontweight = \"bold\")\n",
    "    axes[1].set_ylabel(\"Valeurs prédites\", fontname = 'sans-serif', fontsize = 14, fontweight = \"bold\")\n",
    "    axes[1].set_title(\"JEU TEST\", fontname = 'sans-serif', fontsize = 14, fontweight = \"bold\")\n",
    "    \n",
    "plt.show()"
   ]
  },
  {
   "cell_type": "markdown",
   "id": "072010c4",
   "metadata": {},
   "source": [
    "**2. DISTRIBUTION DES ERREURS**"
   ]
  },
  {
   "cell_type": "code",
   "execution_count": 43,
   "id": "e5c3c9ee",
   "metadata": {},
   "outputs": [
    {
     "data": {
      "image/png": "[encoded data removed]",
      "text/plain": [
       "<Figure size 2200x1000 with 2 Axes>"
      ]
     },
     "metadata": {},
     "output_type": "display_data"
    }
   ],
   "source": [
    "errors_train = np.abs(y_train, y_rfr_train)\n",
    "errors_test = np.abs(y_test, y_rfr_test)\n",
    "\n",
    "fig, axes = plt.subplots(nrows=1, ncols=2, figsize = (22,10))\n",
    "with sns.color_palette(palette=\"pastel\"):\n",
    "    plt.rcParams.update({\"font.size\":12})\n",
    "    sns.histplot(ax=axes[0], x=errors_train, bins=50)\n",
    "    axes[0].set_xlabel(\"Distribution des erreurs\", fontname = 'sans-serif', fontsize = 14, fontweight = \"bold\")\n",
    "    axes[0].set_ylabel(\"Nombre\", fontname = 'sans-serif', fontsize = 14, fontweight = \"bold\")\n",
    "    axes[0].set_title(\"Erreurs sur le jeu d'entrainement\", fontname = 'sans-serif', fontsize = 14, fontweight = \"bold\")\n",
    "    sns.histplot(ax=axes[1], x=errors_test, bins=50)\n",
    "    axes[1].set_xlabel(\"Distribution des erreurs\", fontname = 'sans-serif', fontsize = 14, fontweight = \"bold\")\n",
    "    axes[1].set_ylabel(\"Nombre\", fontname = 'sans-serif', fontsize = 14, fontweight = \"bold\")\n",
    "    axes[1].set_title(\"Erreurs sur le jeu test\", fontname = 'sans-serif', fontsize = 14, fontweight = \"bold\")\n",
    "    \n",
    "plt.show()"
   ]
  },
  {
   "cell_type": "markdown",
   "id": "c10ad315",
   "metadata": {},
   "source": [
    "**CONCLUSION: Avec le peu de données que nous possédons, je trouve que le modèle est globalement satisfaisant, et ce surtout en regardant la distribution des erreurs. En effet, les erreurs réalisées ne sont pas d'une grande ampleur.**"
   ]
  },
  {
   "cell_type": "markdown",
   "id": "b72eefe8",
   "metadata": {},
   "source": [
    "### 3.2. L'apprentissage des variables"
   ]
  },
  {
   "cell_type": "markdown",
   "id": "c3e7f9db",
   "metadata": {},
   "source": [
    "**1. IMPORTANCE DES VARIABLES SUR L'ENTRAINEMENT DU MODELE: feature_importances**"
   ]
  },
  {
   "cell_type": "markdown",
   "id": "7083dab6",
   "metadata": {},
   "source": [
    "**Récupération de l'importance des variables sous forme d'array**"
   ]
  },
  {
   "cell_type": "code",
   "execution_count": 44,
   "id": "dc18e6de",
   "metadata": {
    "scrolled": true
   },
   "outputs": [
    {
     "name": "stdout",
     "output_type": "stream",
     "text": [
      "[0.01350559 0.04899891 0.07536761 0.03491426 0.22170139 0.17365272\n",
      " 0.06798259 0.00130011 0.00706247 0.02470625 0.03491223 0.00096821\n",
      " 0.02662062 0.02545762 0.08603573 0.00027486 0.03495419 0.01252017\n",
      " 0.01476603 0.00426599 0.00884321 0.00353941 0.0043728  0.00783991\n",
      " 0.01153167 0.0078021  0.00620103 0.00860555 0.00338597 0.00838059\n",
      " 0.00756379 0.00553961 0.0064268 ]\n"
     ]
    }
   ],
   "source": [
    "# Sous forme d'array\n",
    "rfr_1_importances = rfr_1.feature_importances_\n",
    "print(rfr_1_importances)\n",
    "\n",
    "# Transformation en pd.Series\n",
    "rfr_importances = pd.Series(rfr_1_importances)"
   ]
  },
  {
   "cell_type": "code",
   "execution_count": 45,
   "id": "81af9810",
   "metadata": {
    "scrolled": false
   },
   "outputs": [
    {
     "data": {
      "image/png": "[encoded data removed]",
      "text/plain": [
       "<Figure size 640x480 with 1 Axes>"
      ]
     },
     "metadata": {},
     "output_type": "display_data"
    }
   ],
   "source": [
    "importances = rfr_importances.head(20)\n",
    "idx = X.columns\n",
    "\n",
    "i, v =[],[]\n",
    "for i_0, v_0 in sorted(zip(importances, idx), reverse =True):\n",
    "    i.append(i_0)\n",
    "    v.append(v_0)\n",
    "    with sns.color_palette(palette=\"pastel\"):\n",
    "        plt.rcParams.update({\"font.size\":12})\n",
    "        sns.barplot(x=i, y=v)\n",
    "        plt.xlabel(\"Importance des variables (%)\", fontname=\"sans-serif\", fontsize=12, fontweight=\"bold\")\n",
    "        plt.xlim()\n",
    "        plt.xticks()\n",
    "        plt.title(\"Importance des variables\", fontname=\"sans-serif\", fontsize=12, fontweight=\"bold\")\n",
    "    \n",
    "plt.show()"
   ]
  },
  {
   "cell_type": "markdown",
   "id": "5c26d714",
   "metadata": {},
   "source": [
    "**CONCLUSION SUR L'IMPORTANCE DES VARIABLES POUR L'ENTRAINEMENT DU MODELE**\n",
    "**Les 10 fearures les plus importantes sont respectivement:**\n",
    "- **La part d'électricité en % dans les énergies utilisées**\n",
    "- **La part de gaz naturel en % dans les énergies utilisées**\n",
    "- **Le secteur des gros commerces**\n",
    "- **La superficie totale de la propriété**\n",
    "- **L'âge de la propriété**\n",
    "- **Le nombre d'étages**\n",
    "- **La part de vapeur en % dans les énergies utilisées**\n",
    "- **Les bureaux**\n",
    "- **Le parking**\n",
    "- **Le secteur de la Santé en Recherche**"
   ]
  },
  {
   "cell_type": "markdown",
   "id": "d409a749",
   "metadata": {},
   "source": [
    "**2. IMPORTANCE DES VARIABLES SUR LA PREDICTION DU MODELE: LES VALEURS DE SHAPLEY**"
   ]
  },
  {
   "cell_type": "markdown",
   "id": "0b36f9fb",
   "metadata": {},
   "source": [
    "**Elles permettent, pour une observation donnée, de quantifier l'impact de chaque feature de cette observation sur la prédiction qui lui est associée par le modèle.**"
   ]
  },
  {
   "cell_type": "code",
   "execution_count": 46,
   "id": "28df1d43",
   "metadata": {},
   "outputs": [],
   "source": [
    "# Fits the explainer\n",
    "explainer = shap.TreeExplainer(rfr_1)\n",
    "\n",
    "# Calculates the SHAP values - It takes some time\n",
    "shap_values = explainer.shap_values(X_train)"
   ]
  },
  {
   "cell_type": "code",
   "execution_count": 47,
   "id": "81d825f6",
   "metadata": {},
   "outputs": [
    {
     "data": {
      "image/png": "[encoded data removed]",
      "text/plain": [
       "<Figure size 800x1470 with 1 Axes>"
      ]
     },
     "metadata": {},
     "output_type": "display_data"
    }
   ],
   "source": [
    "shap.summary_plot(shap_values, feature_names=X.columns, plot_type='bar', max_display=33)"
   ]
  },
  {
   "cell_type": "markdown",
   "id": "93d12744",
   "metadata": {},
   "source": [
    "**CONCLUSION SUR L'IMPORTANCE DES VARIABLES POUR L'ENTRAINEMENT DU MODELE**\n",
    "\n",
    "**Les 10 features contribuant en moyenne le plus à la prédiction du modèle sont respectivement:**\n",
    "- **La part d'électricité en % dans les énergies utilisées**\n",
    "- **La part de gaz naturel en % dans les énergies utilisées**\n",
    "- **Le secteur des gros commerces**\n",
    "- **Le secteur des entrepôts**\n",
    "- **Le secteur de la Santé en Recherche**\n",
    "- **La part de vapeur en % dans les énergies utilisées**\n",
    "- **Les bureaux**\n",
    "- **Le secteur de l'hébergement\n",
    "- **Le nombre d'étages**\n",
    "- **L'âge de la propriété**"
   ]
  },
  {
   "cell_type": "markdown",
   "id": "4bce68d4",
   "metadata": {},
   "source": [
    "## 3. Impact de l'ajout de Energy Star Score dans la modélisation du Random Forest Regressor"
   ]
  },
  {
   "cell_type": "code",
   "execution_count": 48,
   "id": "bfd4e1be",
   "metadata": {},
   "outputs": [],
   "source": [
    "# Copie du jeu de données de modélisation\n",
    "star_score = filename.copy()"
   ]
  },
  {
   "cell_type": "code",
   "execution_count": 49,
   "id": "cec4d669",
   "metadata": {},
   "outputs": [
    {
     "name": "stdout",
     "output_type": "stream",
     "text": [
      "<class 'pandas.core.frame.DataFrame'>\n",
      "RangeIndex: 967 entries, 0 to 966\n",
      "Data columns (total 36 columns):\n",
      " #   Column                                Non-Null Count  Dtype  \n",
      "---  ------                                --------------  -----  \n",
      " 0   NumberofBuildings                     967 non-null    float64\n",
      " 1   NumberofFloors                        967 non-null    int64  \n",
      " 2   PropertyGFATotal                      967 non-null    float64\n",
      " 3   ENERGYSTARScore                       967 non-null    float64\n",
      " 4   SiteEUIWN(kBtu/sf)                    967 non-null    float64\n",
      " 5   GHGEmissionsIntensity                 967 non-null    float64\n",
      " 6   SteamUse(%)                           967 non-null    float64\n",
      " 7   Electricity(%)                        967 non-null    float64\n",
      " 8   NaturalGas(%)                         967 non-null    float64\n",
      " 9   AgePropriete                          967 non-null    int64  \n",
      " 10  Entrepôts réfrigérés et Data Center   967 non-null    float64\n",
      " 11  Education                             967 non-null    float64\n",
      " 12  Stockage                              967 non-null    float64\n",
      " 13  Parking                               967 non-null    float64\n",
      " 14  Activités sociales                    967 non-null    float64\n",
      " 15  Santé et Recherche                    967 non-null    float64\n",
      " 16  Hébergement                           967 non-null    float64\n",
      " 17  Gros commerces                        967 non-null    float64\n",
      " 18  Usines                                967 non-null    float64\n",
      " 19  Bureaux                               967 non-null    float64\n",
      " 20  Petits commerces                      967 non-null    float64\n",
      " 21  Autre et services                     967 non-null    float64\n",
      " 22  Restauration                          967 non-null    float64\n",
      " 23  Neighborhood_ballard                  967 non-null    int64  \n",
      " 24  Neighborhood_central                  967 non-null    int64  \n",
      " 25  Neighborhood_delridge                 967 non-null    int64  \n",
      " 26  Neighborhood_downtown                 967 non-null    int64  \n",
      " 27  Neighborhood_east                     967 non-null    int64  \n",
      " 28  Neighborhood_greater duwamish         967 non-null    int64  \n",
      " 29  Neighborhood_lake union               967 non-null    int64  \n",
      " 30  Neighborhood_magnolia and queen anne  967 non-null    int64  \n",
      " 31  Neighborhood_north                    967 non-null    int64  \n",
      " 32  Neighborhood_northeast                967 non-null    int64  \n",
      " 33  Neighborhood_northwest                967 non-null    int64  \n",
      " 34  Neighborhood_southeast                967 non-null    int64  \n",
      " 35  Neighborhood_southwest                967 non-null    int64  \n",
      "dtypes: float64(21), int64(15)\n",
      "memory usage: 272.1 KB\n"
     ]
    }
   ],
   "source": [
    "# Infos sur le jeu de données\n",
    "star_score.info()"
   ]
  },
  {
   "cell_type": "markdown",
   "id": "48899a0a",
   "metadata": {},
   "source": [
    "## 3.1. Séparation du jeu de données"
   ]
  },
  {
   "cell_type": "code",
   "execution_count": 50,
   "id": "a0d23458",
   "metadata": {},
   "outputs": [],
   "source": [
    "X_star = star_score.drop([\"SiteEUIWN(kBtu/sf)\", \"GHGEmissionsIntensity\"], axis=1)\n",
    "y_star = star_score[\"GHGEmissionsIntensity\"]\n",
    "\n",
    "X_train_star, X_test_star, y_train_star, y_test_star = train_test_split(X_star, y_star, test_size=0.2, random_state=42)"
   ]
  },
  {
   "cell_type": "code",
   "execution_count": 51,
   "id": "5b45f43f",
   "metadata": {},
   "outputs": [
    {
     "name": "stdout",
     "output_type": "stream",
     "text": [
      "X_train_star: (773, 34)\n",
      "X_test_star: (194, 34)\n",
      "y_train_star: (773,)\n",
      "y_test_star: (194,)\n"
     ]
    }
   ],
   "source": [
    "# Vérification des dimensions \n",
    "print(f'X_train_star: {X_train_star.shape}')\n",
    "print(f'X_test_star: {X_test_star.shape}')\n",
    "print(f'y_train_star: {y_train_star.shape}')\n",
    "print(f'y_test_star: {y_test_star.shape}')"
   ]
  },
  {
   "cell_type": "markdown",
   "id": "d7a3ed67",
   "metadata": {},
   "source": [
    "## 3.2. Modélisation"
   ]
  },
  {
   "cell_type": "markdown",
   "id": "2b692be9",
   "metadata": {},
   "source": [
    "**Afin de faciliter la comparaison des modèles avec et sans EnergyStarScore, le modèle entrainé précedemment sera ré-entrainé.**"
   ]
  },
  {
   "cell_type": "markdown",
   "id": "100752b4",
   "metadata": {},
   "source": [
    "**1. MODELISATION SANS L'ENERGY STAR SCORE**"
   ]
  },
  {
   "cell_type": "code",
   "execution_count": 52,
   "id": "3ffcb53f",
   "metadata": {},
   "outputs": [],
   "source": [
    "no_star_rfr= RandomForestRegressor(criterion= 'absolute_error', max_depth=20, max_features= 'sqrt', n_estimators = 100, random_state=42)"
   ]
  },
  {
   "cell_type": "code",
   "execution_count": 53,
   "id": "f2684cca",
   "metadata": {},
   "outputs": [],
   "source": [
    "no_star_rfr =  [no_star_rfr]"
   ]
  },
  {
   "cell_type": "code",
   "execution_count": 54,
   "id": "a17317e6",
   "metadata": {},
   "outputs": [],
   "source": [
    "def no_star_gas(models):\n",
    "\n",
    "    print(\"Prédiction de l'intensité de l'émission des gaz à effet de serre \\n sans l'Energy Star Score\")\n",
    "\n",
    "    col_base = ['RFR sans EnergyStarScore']\n",
    "    index_base = ['Train R²','Train RMSE', 'Train MSE', 'Train MAE', 'Test R²','Test RMSE', 'Test MSE', 'Test MAE']\n",
    "\n",
    "    no_star = pd.DataFrame(index=index_base, columns=col_base)\n",
    "\n",
    "    col = 0\n",
    "\n",
    "    for model in no_star_rfr:\n",
    "        model_fit = model.fit(X_train,y_train)\n",
    "        model_y_pred_train = model.predict(X_train)\n",
    "        model_y_pred_test = model.predict(X_test)\n",
    "    \n",
    "        \n",
    "        no_star.iloc[0,col] = r2_score(y_train, model_y_pred_train)\n",
    "        no_star.iloc[1,col] = np.sqrt(mean_squared_error(y_train, model_y_pred_train))\n",
    "        no_star.iloc[2,col] = mean_squared_error(y_train, model_y_pred_train)\n",
    "        no_star.iloc[3,col] = mean_absolute_error(y_train, model_y_pred_train)\n",
    "        no_star.iloc[4,col] = r2_score(y_test, model_y_pred_test)\n",
    "        no_star.iloc[5,col] = np.sqrt(mean_squared_error(y_test, model_y_pred_test))\n",
    "        no_star.iloc[6,col] = mean_squared_error(y_test, model_y_pred_test)\n",
    "        no_star.iloc[7,col] = mean_absolute_error(y_test, model_y_pred_test)\n",
    "    \n",
    "        col +=1 \n",
    "       \n",
    "    return no_star"
   ]
  },
  {
   "cell_type": "code",
   "execution_count": 55,
   "id": "acc39d32",
   "metadata": {},
   "outputs": [
    {
     "name": "stdout",
     "output_type": "stream",
     "text": [
      "Prédiction de l'intensité de l'émission des gaz à effet de serre \n",
      " sans l'Energy Star Score\n"
     ]
    },
    {
     "data": {
      "text/html": [
       "<div>\n",
       "<style scoped>\n",
       "    .dataframe tbody tr th:only-of-type {\n",
       "        vertical-align: middle;\n",
       "    }\n",
       "\n",
       "    .dataframe tbody tr th {\n",
       "        vertical-align: top;\n",
       "    }\n",
       "\n",
       "    .dataframe thead th {\n",
       "        text-align: right;\n",
       "    }\n",
       "</style>\n",
       "<table border=\"1\" class=\"dataframe\">\n",
       "  <thead>\n",
       "    <tr style=\"text-align: right;\">\n",
       "      <th></th>\n",
       "      <th>RFR sans EnergyStarScore</th>\n",
       "    </tr>\n",
       "  </thead>\n",
       "  <tbody>\n",
       "    <tr>\n",
       "      <th>Train R²</th>\n",
       "      <td>0.939131</td>\n",
       "    </tr>\n",
       "    <tr>\n",
       "      <th>Train RMSE</th>\n",
       "      <td>0.419974</td>\n",
       "    </tr>\n",
       "    <tr>\n",
       "      <th>Train MSE</th>\n",
       "      <td>0.176378</td>\n",
       "    </tr>\n",
       "    <tr>\n",
       "      <th>Train MAE</th>\n",
       "      <td>0.22999</td>\n",
       "    </tr>\n",
       "    <tr>\n",
       "      <th>Test R²</th>\n",
       "      <td>0.74221</td>\n",
       "    </tr>\n",
       "    <tr>\n",
       "      <th>Test RMSE</th>\n",
       "      <td>0.636078</td>\n",
       "    </tr>\n",
       "    <tr>\n",
       "      <th>Test MSE</th>\n",
       "      <td>0.404595</td>\n",
       "    </tr>\n",
       "    <tr>\n",
       "      <th>Test MAE</th>\n",
       "      <td>0.42279</td>\n",
       "    </tr>\n",
       "  </tbody>\n",
       "</table>\n",
       "</div>"
      ],
      "text/plain": [
       "           RFR sans EnergyStarScore\n",
       "Train R²                   0.939131\n",
       "Train RMSE                 0.419974\n",
       "Train MSE                  0.176378\n",
       "Train MAE                   0.22999\n",
       "Test R²                     0.74221\n",
       "Test RMSE                  0.636078\n",
       "Test MSE                   0.404595\n",
       "Test MAE                    0.42279"
      ]
     },
     "execution_count": 55,
     "metadata": {},
     "output_type": "execute_result"
    }
   ],
   "source": [
    "no_star = no_star_gas(models= no_star_rfr)\n",
    "no_star"
   ]
  },
  {
   "cell_type": "markdown",
   "id": "99aaa508",
   "metadata": {},
   "source": [
    "**2. MODELISATION AVEC L'ENERGY STAR SCORE**"
   ]
  },
  {
   "cell_type": "code",
   "execution_count": 56,
   "id": "022fdc5a",
   "metadata": {},
   "outputs": [],
   "source": [
    "star_rfr = RandomForestRegressor(criterion= 'absolute_error', max_depth=20, max_features= 'sqrt', n_estimators = 100, random_state=42)"
   ]
  },
  {
   "cell_type": "code",
   "execution_count": 57,
   "id": "1dcae9ae",
   "metadata": {},
   "outputs": [],
   "source": [
    "star_rfr = [star_rfr]"
   ]
  },
  {
   "cell_type": "code",
   "execution_count": 58,
   "id": "f4797ac1",
   "metadata": {},
   "outputs": [],
   "source": [
    "def star_gas(models):\n",
    "\n",
    "    print(\"Prédiction de l'intensité de l'émission des gaz à effet de serre \\n avec l'Energy Star Score\")\n",
    "\n",
    "    col_base = ['RFR avec EnergyStarScore']\n",
    "    index_base = ['Train R²','Train RMSE', 'Train MSE', 'Train MAE', 'Test R²','Test RMSE', 'Test MSE', 'Test MAE']\n",
    "\n",
    "    results_star = pd.DataFrame(index=index_base, columns=col_base)\n",
    "\n",
    "    col = 0\n",
    "\n",
    "    for model in star_rfr:\n",
    "        model_fit = model.fit(X_train_star,y_train_star)\n",
    "        model_y_pred_train_star = model.predict(X_train_star)\n",
    "        model_y_pred_test_star = model.predict(X_test_star)\n",
    "    \n",
    "        \n",
    "        results_star.iloc[0,col] = r2_score(y_train_star, model_y_pred_train_star)\n",
    "        results_star.iloc[1,col] = np.sqrt(mean_squared_error(y_train_star, model_y_pred_train_star))\n",
    "        results_star.iloc[2,col] = mean_squared_error(y_train_star, model_y_pred_train_star)\n",
    "        results_star.iloc[3,col] = mean_absolute_error(y_train_star, model_y_pred_train_star)\n",
    "        results_star.iloc[4,col] = r2_score(y_test_star, model_y_pred_test_star)\n",
    "        results_star.iloc[5,col] = np.sqrt(mean_squared_error(y_test_star, model_y_pred_test_star))\n",
    "        results_star.iloc[6,col] = mean_squared_error(y_test_star, model_y_pred_test_star)\n",
    "        results_star.iloc[7,col] = mean_absolute_error(y_test_star, model_y_pred_test_star)\n",
    "    \n",
    "        col +=1 \n",
    "       \n",
    "    return results_star"
   ]
  },
  {
   "cell_type": "code",
   "execution_count": 59,
   "id": "93df6e10",
   "metadata": {},
   "outputs": [
    {
     "name": "stdout",
     "output_type": "stream",
     "text": [
      "Prédiction de l'intensité de l'émission des gaz à effet de serre \n",
      " avec l'Energy Star Score\n"
     ]
    },
    {
     "data": {
      "text/html": [
       "<div>\n",
       "<style scoped>\n",
       "    .dataframe tbody tr th:only-of-type {\n",
       "        vertical-align: middle;\n",
       "    }\n",
       "\n",
       "    .dataframe tbody tr th {\n",
       "        vertical-align: top;\n",
       "    }\n",
       "\n",
       "    .dataframe thead th {\n",
       "        text-align: right;\n",
       "    }\n",
       "</style>\n",
       "<table border=\"1\" class=\"dataframe\">\n",
       "  <thead>\n",
       "    <tr style=\"text-align: right;\">\n",
       "      <th></th>\n",
       "      <th>RFR avec EnergyStarScore</th>\n",
       "    </tr>\n",
       "  </thead>\n",
       "  <tbody>\n",
       "    <tr>\n",
       "      <th>Train R²</th>\n",
       "      <td>0.948906</td>\n",
       "    </tr>\n",
       "    <tr>\n",
       "      <th>Train RMSE</th>\n",
       "      <td>0.384776</td>\n",
       "    </tr>\n",
       "    <tr>\n",
       "      <th>Train MSE</th>\n",
       "      <td>0.148053</td>\n",
       "    </tr>\n",
       "    <tr>\n",
       "      <th>Train MAE</th>\n",
       "      <td>0.196019</td>\n",
       "    </tr>\n",
       "    <tr>\n",
       "      <th>Test R²</th>\n",
       "      <td>0.777909</td>\n",
       "    </tr>\n",
       "    <tr>\n",
       "      <th>Test RMSE</th>\n",
       "      <td>0.590395</td>\n",
       "    </tr>\n",
       "    <tr>\n",
       "      <th>Test MSE</th>\n",
       "      <td>0.348566</td>\n",
       "    </tr>\n",
       "    <tr>\n",
       "      <th>Test MAE</th>\n",
       "      <td>0.365365</td>\n",
       "    </tr>\n",
       "  </tbody>\n",
       "</table>\n",
       "</div>"
      ],
      "text/plain": [
       "           RFR avec EnergyStarScore\n",
       "Train R²                   0.948906\n",
       "Train RMSE                 0.384776\n",
       "Train MSE                  0.148053\n",
       "Train MAE                  0.196019\n",
       "Test R²                    0.777909\n",
       "Test RMSE                  0.590395\n",
       "Test MSE                   0.348566\n",
       "Test MAE                   0.365365"
      ]
     },
     "execution_count": 59,
     "metadata": {},
     "output_type": "execute_result"
    }
   ],
   "source": [
    "results_star = star_gas(models=star_rfr)\n",
    "results_star"
   ]
  },
  {
   "cell_type": "markdown",
   "id": "50565e94",
   "metadata": {},
   "source": [
    "**3. CONCATENATION DES 2 DATAFRAMES**"
   ]
  },
  {
   "cell_type": "code",
   "execution_count": 60,
   "id": "c12009ef",
   "metadata": {},
   "outputs": [
    {
     "data": {
      "text/html": [
       "<div>\n",
       "<style scoped>\n",
       "    .dataframe tbody tr th:only-of-type {\n",
       "        vertical-align: middle;\n",
       "    }\n",
       "\n",
       "    .dataframe tbody tr th {\n",
       "        vertical-align: top;\n",
       "    }\n",
       "\n",
       "    .dataframe thead th {\n",
       "        text-align: right;\n",
       "    }\n",
       "</style>\n",
       "<table border=\"1\" class=\"dataframe\">\n",
       "  <thead>\n",
       "    <tr style=\"text-align: right;\">\n",
       "      <th></th>\n",
       "      <th>RFR sans EnergyStarScore</th>\n",
       "      <th>RFR avec EnergyStarScore</th>\n",
       "    </tr>\n",
       "  </thead>\n",
       "  <tbody>\n",
       "    <tr>\n",
       "      <th>Train R²</th>\n",
       "      <td>0.939131</td>\n",
       "      <td>0.948906</td>\n",
       "    </tr>\n",
       "    <tr>\n",
       "      <th>Train RMSE</th>\n",
       "      <td>0.419974</td>\n",
       "      <td>0.384776</td>\n",
       "    </tr>\n",
       "    <tr>\n",
       "      <th>Train MSE</th>\n",
       "      <td>0.176378</td>\n",
       "      <td>0.148053</td>\n",
       "    </tr>\n",
       "    <tr>\n",
       "      <th>Train MAE</th>\n",
       "      <td>0.22999</td>\n",
       "      <td>0.196019</td>\n",
       "    </tr>\n",
       "    <tr>\n",
       "      <th>Test R²</th>\n",
       "      <td>0.74221</td>\n",
       "      <td>0.777909</td>\n",
       "    </tr>\n",
       "    <tr>\n",
       "      <th>Test RMSE</th>\n",
       "      <td>0.636078</td>\n",
       "      <td>0.590395</td>\n",
       "    </tr>\n",
       "    <tr>\n",
       "      <th>Test MSE</th>\n",
       "      <td>0.404595</td>\n",
       "      <td>0.348566</td>\n",
       "    </tr>\n",
       "    <tr>\n",
       "      <th>Test MAE</th>\n",
       "      <td>0.42279</td>\n",
       "      <td>0.365365</td>\n",
       "    </tr>\n",
       "  </tbody>\n",
       "</table>\n",
       "</div>"
      ],
      "text/plain": [
       "           RFR sans EnergyStarScore RFR avec EnergyStarScore\n",
       "Train R²                   0.939131                 0.948906\n",
       "Train RMSE                 0.419974                 0.384776\n",
       "Train MSE                  0.176378                 0.148053\n",
       "Train MAE                   0.22999                 0.196019\n",
       "Test R²                     0.74221                 0.777909\n",
       "Test RMSE                  0.636078                 0.590395\n",
       "Test MSE                   0.404595                 0.348566\n",
       "Test MAE                    0.42279                 0.365365"
      ]
     },
     "execution_count": 60,
     "metadata": {},
     "output_type": "execute_result"
    }
   ],
   "source": [
    "interet_star = pd.concat([no_star, results_star], axis = 1)\n",
    "interet_star"
   ]
  },
  {
   "cell_type": "markdown",
   "id": "8f492a78",
   "metadata": {},
   "source": [
    "**CONCLUSION: L'Energy Star Score améliore les performances, et ce notamment sur le jeu test...**"
   ]
  },
  {
   "cell_type": "markdown",
   "id": "3226811a",
   "metadata": {},
   "source": [
    "# 4. La prédiction sur de nouvelles données"
   ]
  },
  {
   "cell_type": "markdown",
   "id": "17c65178",
   "metadata": {},
   "source": [
    "## 4.1. L'apprentissage du modèle "
   ]
  },
  {
   "cell_type": "markdown",
   "id": "aeb38ebe",
   "metadata": {},
   "source": [
    "### 1. Entrainement du modèle sur de nouvelles données"
   ]
  },
  {
   "cell_type": "code",
   "execution_count": 61,
   "id": "c9044b24",
   "metadata": {},
   "outputs": [
    {
     "data": {
      "text/plain": [
       "count    516.000000\n",
       "mean       2.086531\n",
       "std        2.680087\n",
       "min        0.010000\n",
       "25%        0.495000\n",
       "50%        1.170000\n",
       "75%        2.410000\n",
       "max       16.990000\n",
       "Name: GHGEmissionsIntensity, dtype: float64"
      ]
     },
     "execution_count": 61,
     "metadata": {},
     "output_type": "execute_result"
    }
   ],
   "source": [
    "# Description de la target\n",
    "validation[\"GHGEmissionsIntensity\"].describe()"
   ]
  },
  {
   "cell_type": "code",
   "execution_count": 62,
   "id": "3a3e85c9",
   "metadata": {},
   "outputs": [],
   "source": [
    "X_val = validation.drop([\"SiteEUIWN(kBtu/sf)\", \"GHGEmissionsIntensity\", \"ENERGYSTARScore\"], axis=1)\n",
    "y_val = validation[\"GHGEmissionsIntensity\"]"
   ]
  },
  {
   "cell_type": "code",
   "execution_count": 63,
   "id": "7464bf56",
   "metadata": {},
   "outputs": [],
   "source": [
    "rfr_val = RandomForestRegressor(criterion= 'absolute_error', max_depth=20, max_features= 'sqrt', n_estimators = 100, random_state=42)"
   ]
  },
  {
   "cell_type": "code",
   "execution_count": 64,
   "id": "0b90dd59",
   "metadata": {},
   "outputs": [
    {
     "name": "stdout",
     "output_type": "stream",
     "text": [
      "R²: 0.9028826989512889\n",
      "RMSE: 0.8344032771331279\n",
      "MSE: 0.6962288288905035\n",
      "MAE: 0.49247897286821696\n"
     ]
    }
   ],
   "source": [
    "# Entrainement du modèle\n",
    "rfr_val.fit(X_val,y_val)\n",
    "\n",
    "# Prédiction sur le jeu d'évaluation\n",
    "y_pred_val = rfr_val.predict(X_val)\n",
    "\n",
    "# Scores sur le jeu de validation\n",
    "score_r2_val = rfr_val.score(X_val, y_val)\n",
    "score_RMSE_val = np.sqrt(mean_squared_error(y_val,y_pred_val))\n",
    "score_MSE_val = mean_squared_error(y_val, y_pred_val)\n",
    "score_MAE_val = mean_absolute_error(y_val, y_pred_val)\n",
    "\n",
    "print(f'R²: {score_r2_val}')\n",
    "print(f'RMSE: {score_RMSE_val}')\n",
    "print(f'MSE: {score_MSE_val}')\n",
    "print(f'MAE: {score_MAE_val}')"
   ]
  },
  {
   "cell_type": "code",
   "execution_count": 65,
   "id": "9efa68fa",
   "metadata": {},
   "outputs": [
    {
     "name": "stdout",
     "output_type": "stream",
     "text": [
      "0.09711730104871108\n"
     ]
    }
   ],
   "source": [
    "# Pourcentage d'erreurs du modèle\n",
    "\n",
    "print(1-rfr_val.score(X_val, y_val))"
   ]
  },
  {
   "cell_type": "markdown",
   "id": "ba892d0a",
   "metadata": {},
   "source": [
    "### 2. Comparaison des valeurs prédites et des valeurs réelles"
   ]
  },
  {
   "cell_type": "code",
   "execution_count": 66,
   "id": "fe005a7a",
   "metadata": {},
   "outputs": [
    {
     "data": {
      "text/html": [
       "<div>\n",
       "<style scoped>\n",
       "    .dataframe tbody tr th:only-of-type {\n",
       "        vertical-align: middle;\n",
       "    }\n",
       "\n",
       "    .dataframe tbody tr th {\n",
       "        vertical-align: top;\n",
       "    }\n",
       "\n",
       "    .dataframe thead th {\n",
       "        text-align: right;\n",
       "    }\n",
       "</style>\n",
       "<table border=\"1\" class=\"dataframe\">\n",
       "  <thead>\n",
       "    <tr style=\"text-align: right;\">\n",
       "      <th></th>\n",
       "      <th>y_vrai</th>\n",
       "      <th>y_predit</th>\n",
       "    </tr>\n",
       "  </thead>\n",
       "  <tbody>\n",
       "    <tr>\n",
       "      <th>0</th>\n",
       "      <td>3.10</td>\n",
       "      <td>2.44525</td>\n",
       "    </tr>\n",
       "    <tr>\n",
       "      <th>1</th>\n",
       "      <td>2.16</td>\n",
       "      <td>2.72095</td>\n",
       "    </tr>\n",
       "    <tr>\n",
       "      <th>2</th>\n",
       "      <td>0.44</td>\n",
       "      <td>0.56330</td>\n",
       "    </tr>\n",
       "    <tr>\n",
       "      <th>3</th>\n",
       "      <td>4.18</td>\n",
       "      <td>4.21360</td>\n",
       "    </tr>\n",
       "    <tr>\n",
       "      <th>4</th>\n",
       "      <td>4.75</td>\n",
       "      <td>4.34770</td>\n",
       "    </tr>\n",
       "  </tbody>\n",
       "</table>\n",
       "</div>"
      ],
      "text/plain": [
       "   y_vrai  y_predit\n",
       "0    3.10   2.44525\n",
       "1    2.16   2.72095\n",
       "2    0.44   0.56330\n",
       "3    4.18   4.21360\n",
       "4    4.75   4.34770"
      ]
     },
     "execution_count": 66,
     "metadata": {},
     "output_type": "execute_result"
    }
   ],
   "source": [
    "y_vrai = pd.DataFrame(y_val)\n",
    "y_predit = pd.DataFrame(y_pred_val)\n",
    "\n",
    "data_plot = pd.concat([y_vrai, y_predit], axis = 1)\n",
    "data_plot.rename(columns={\"GHGEmissionsIntensity\": \"y_vrai\", 0: \"y_predit\"}, inplace = True)\n",
    "data_plot.head()"
   ]
  },
  {
   "cell_type": "code",
   "execution_count": 67,
   "id": "5d0d7c0e",
   "metadata": {},
   "outputs": [
    {
     "data": {
      "image/png": "[encoded data removed]",
      "text/plain": [
       "<Figure size 2200x1000 with 2 Axes>"
      ]
     },
     "metadata": {},
     "output_type": "display_data"
    }
   ],
   "source": [
    "errors_val = np.abs(y_val, y_pred_val)\n",
    "\n",
    "fig, axes = plt.subplots(nrows=1, ncols=2, figsize = (22,10))\n",
    "with sns.color_palette(palette=\"pastel\"):\n",
    "    plt.rcParams.update({\"font.size\":12})\n",
    "    sns.scatterplot(ax=axes[0], data=data_plot, x='y_vrai', y= 'y_predit')\n",
    "    sns.lineplot(ax=axes[0], x=np.linspace(0, 17, 50), y=np.linspace(0, 17, 50), color='r')\n",
    "    axes[0].set_xlabel(\"Valeurs vraies\", fontname = 'sans-serif', fontsize = 12)\n",
    "    axes[0].set_ylabel(\"Valeurs prédites\", fontname = 'sans-serif', fontsize = 12)\n",
    "    axes[0].set_title(\"Jeu de validation\", fontname = 'sans-serif', fontsize = 14, fontweight = \"bold\")\n",
    "    sns.histplot(ax=axes[1], x=errors_val, bins=50)\n",
    "    axes[1].set_xlabel(\"Distribution des erreurs\", fontname = 'sans-serif', fontsize = 12)\n",
    "    axes[1].set_ylabel(\"Nombre\", fontname = 'sans-serif', fontsize = 12)\n",
    "    axes[1].set_title(\"Erreurs sur le jeu de validation\", fontname = 'sans-serif', fontsize = 14, fontweight = \"bold\")\n",
    "    \n",
    "plt.show()"
   ]
  },
  {
   "cell_type": "markdown",
   "id": "6d28202e",
   "metadata": {},
   "source": [
    "**La performance de notre modèle est d'environ 90% avec un pourcentage d'erreurs avoisinant les 10%, ce qui en soit me semble pertinent vu la quantité de données à disposition pour l'apprentissage. Lorsque nous observons la distribution des erreurs, nous pouvons remarquer que nous avons la majorité des erreurs qui sont de faible ampleur. Le modèle apprend bien mais présente des difficultés pour généraliser surtout les valeurs importantes. Afin d'avoir un modèle plus robuste, il faudrait fournir davantage de données pour l'apprentissage ce qui est impossible dans notre cas.**"
   ]
  },
  {
   "cell_type": "markdown",
   "id": "71103925",
   "metadata": {},
   "source": [
    "### CONCLUSION\n",
    "\n",
    "- **Intérêt non négligeable de l'incorporation de l'Energy Star Score, même si cela induit un travail fastidieux.**\n",
    "- **Meilleure capacité pour la prédiction de nouvelles données comparativement au modèle de prédiction de la consommation en énergie.**\n",
    "- **Intérêt non négligeable malgré le coût d'effectuer davantage de relevés afin d'obtenir un modèle davantage robuste.**"
   ]
  },
  {
   "cell_type": "code",
   "execution_count": null,
   "id": "b4b0152b",
   "metadata": {},
   "outputs": [],
   "source": []
  }
 ],
 "metadata": {
  "kernelspec": {
   "display_name": "Python 3 (ipykernel)",
   "language": "python",
   "name": "python3"
  },
  "language_info": {
   "codemirror_mode": {
    "name": "ipython",
    "version": 3
   },
   "file_extension": ".py",
   "mimetype": "text/x-python",
   "name": "python",
   "nbconvert_exporter": "python",
   "pygments_lexer": "ipython3",
   "version": "3.9.13"
  }
 },
 "nbformat": 4,
 "nbformat_minor": 5
}
